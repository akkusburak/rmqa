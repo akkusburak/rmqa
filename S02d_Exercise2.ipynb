{
 "cells": [
  {
   "cell_type": "code",
   "execution_count": null,
   "metadata": {},
   "outputs": [],
   "source": [
    "# Execute before using this notebook if using google colab\n",
    "\n",
    "kernel = str(get_ipython())\n",
    "\n",
    "if 'google.colab' in kernel:    \n",
    "    !wget https://raw.githubusercontent.com/fredzett/rmqa/master/utils.py -P local_modules -nc \n",
    "    !npx degit fredzett/rmqa/data data\n",
    "    import sys\n",
    "    sys.path.append('local_modules')"
   ]
  },
  {
   "cell_type": "code",
   "execution_count": null,
   "metadata": {},
   "outputs": [],
   "source": [
    "import numpy as np\n",
    "from utils import Datasets, plot_line "
   ]
  },
  {
   "cell_type": "markdown",
   "metadata": {},
   "source": [
    "# Exercise 1"
   ]
  },
  {
   "cell_type": "markdown",
   "metadata": {},
   "source": [
    "You are given the monthly index levels for the DAX 30 (stock index for the 30 largest companies in Germany, see [here](https://en.wikipedia.org/wiki/DAX)). \n",
    "\n",
    "- first entry: index level end of January 1990\n",
    "- last entry: index level end of December 2019"
   ]
  },
  {
   "cell_type": "markdown",
   "metadata": {},
   "source": [
    "**Please answer the following questions:**\n",
    "\n",
    "1. What was the index level at March 1991?\n",
    "\n",
    "2. What was the average index level in the first 12 month (i.e. in 1990)\n",
    "\n",
    "3. What was the average index level in the year 2000\n",
    "\n",
    "3. What was the maximum index level in the last 12 month (i.e. in 2019)\n",
    "\n",
    "4. When was the maximum index level in 2019 reached (i.e. which month)\n",
    "\n",
    "4. Calculate the monthly returns for the Dax. Monthly return ($r_i$) is defined as  $$r_i = \\frac{P_i}{P_{i-1}} - 1$$\n",
    "\n",
    "5. Calculate the monthly mean, median and standard deviation of returns (from February 1990 to December 2019)\n",
    "\n",
    "6. What is the $95^{th}$ percentile of monthly returns? What does this?\n",
    "\n",
    "7. Were there more months with positive or negative monthly returns?\n",
    "\n",
    "8. How many month had a monthly return of below $-10\\%$\n",
    "\n",
    "7. Calculate a trimmed mean, median and standard deviation of returns where upper and lower $1%$ of returns are not included. What do you notice about the numbers?\n",
    "\n",
    "8. Determine the months that were excluced for the trimmed return series (note: numpy indices are sufficient)\n",
    "\n",
    "9. Write a function that calculates the trimmed mean where the user of this function can choose the lower and upper percentile\n",
    "\n",
    "10. Make the above function more flexible and also enable calculation of other descriptive statistics (advanced!)"
   ]
  },
  {
   "cell_type": "code",
   "execution_count": null,
   "metadata": {},
   "outputs": [],
   "source": [
    "dax = Datasets.dax_monthly()\n",
    "dax.shape"
   ]
  },
  {
   "cell_type": "markdown",
   "metadata": {
    "toc-hr-collapsed": true,
    "toc-nb-collapsed": true
   },
   "source": [
    "## Solutions 1"
   ]
  },
  {
   "cell_type": "code",
   "execution_count": null,
   "metadata": {},
   "outputs": [],
   "source": []
  },
  {
   "cell_type": "markdown",
   "metadata": {},
   "source": [
    "# Exercise 2"
   ]
  },
  {
   "cell_type": "markdown",
   "metadata": {},
   "source": [
    "You are given the below **project cash flows** for the coming years $1, \\ldots, 10$:\n",
    "\n",
    "|    1   |  2  |  3  |  4  |  5  |  6  |  7  |  8  |  9  |  10 |\n",
    "|:------:|:---:|:---:|:---:|:---:|:---:|:---:|:---:|:---:|:---:|\n",
    "| -1.000 | 200 | 210 | 221 | 232 | 243 | 255 | 268 | 281 | 295 |\n",
    "\n",
    "The cost of capital ($r$) is  $5\\%$.\n",
    "\n",
    "Please answer the **folowing questions**:\n",
    "\n",
    "1. The net present value of the project\n",
    "\n",
    "2. The payback period of the project (how long (here: years) does it take until the money is earned back)\n",
    "\n",
    "    1. for nominal cash flows\n",
    "    \n",
    "    2. for discounted cash flows\n",
    "\n",
    "\n",
    "3. Function to calculate the npv (NOTE: assume that initial year is always Year 1)\n",
    "\n",
    "4. Calculate the internal rate of return, i.e. calcualte $r$ for with the Net Present Value is $0$ \n",
    "\n",
    "\n",
    "\n",
    "----\n",
    "\n",
    "**Note**: the net present value (npv) is defined as: \n",
    "\n",
    "$$\\text{NPV} = \\sum_t^T CF_t \\cdot \\frac{1}{(1+r)^t}$$\n"
   ]
  },
  {
   "cell_type": "markdown",
   "metadata": {},
   "source": [
    "## Solution 2"
   ]
  },
  {
   "cell_type": "code",
   "execution_count": null,
   "metadata": {},
   "outputs": [],
   "source": []
  }
 ],
 "metadata": {
  "kernelspec": {
   "display_name": "Python 3",
   "language": "python",
   "name": "python3"
  },
  "language_info": {
   "codemirror_mode": {
    "name": "ipython",
    "version": 3
   },
   "file_extension": ".py",
   "mimetype": "text/x-python",
   "name": "python",
   "nbconvert_exporter": "python",
   "pygments_lexer": "ipython3",
   "version": "3.8.3-final"
  }
 },
 "nbformat": 4,
 "nbformat_minor": 4
}