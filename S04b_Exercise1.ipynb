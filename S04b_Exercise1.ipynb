{
 "cells": [
  {
   "cell_type": "code",
   "execution_count": 3,
   "metadata": {},
   "outputs": [],
   "source": [
    "# Execute before using this notebook if using google colab\n",
    "\n",
    "kernel = str(get_ipython())\n",
    "\n",
    "if 'google.colab' in kernel:    \n",
    "    !wget https://raw.githubusercontent.com/fredzett/rmqa/master/utils.py -P local_modules -nc \n",
    "    !npx degit fredzett/rmqa/data data\n",
    "    import sys\n",
    "    sys.path.append('local_modules')"
   ]
  },
  {
   "cell_type": "code",
   "execution_count": 4,
   "metadata": {},
   "outputs": [],
   "source": [
    "import numpy as np\n",
    "import scipy.stats as stats\n",
    "from utils import Datasets, plot_density, plot_hist, plot_line\n",
    "import matplotlib.pyplot as plt\n",
    "import seaborn as sns"
   ]
  },
  {
   "cell_type": "markdown",
   "metadata": {},
   "source": [
    "# Excercise 1"
   ]
  },
  {
   "cell_type": "markdown",
   "metadata": {},
   "source": [
    "Given the below data on two groups you want to test if the mean of both groups is equal. \n",
    "\n",
    "1. formulate a research hypothesis for this problem\n",
    "\n",
    "2. test your hypothesis using a two sample t-test\n",
    "\n",
    "3. calculate the sample distribution for your estimator\n",
    "\n",
    "4. test your hypothesis using a bootstrap approach\n",
    "\n",
    "5. what is your conclusion?"
   ]
  },
  {
   "cell_type": "code",
   "execution_count": 5,
   "metadata": {},
   "outputs": [
    {
     "data": {
      "text/plain": [
       "(100.00764719249781, 104.99738205065616)"
      ]
     },
     "execution_count": 5,
     "metadata": {},
     "output_type": "execute_result"
    }
   ],
   "source": [
    "n = 10_000\n",
    "group1 = stats.norm(100,2).rvs(n)\n",
    "group2 = stats.norm(105,2).rvs(n)\n",
    "np.mean(group1), np.mean(group2)"
   ]
  },
  {
   "cell_type": "markdown",
   "metadata": {},
   "source": [
    "## Solution 1"
   ]
  },
  {
   "cell_type": "markdown",
   "metadata": {},
   "source": [
    "# Exercise 2"
   ]
  },
  {
   "cell_type": "markdown",
   "metadata": {},
   "source": [
    "You are given the below dataset containing of car models (see [here](http://faculty.marshall.usc.edu/gareth-james/ISL/data.html) for original dataset). Four our purposes in this excercise the data contains two features for $392$ car models:\n",
    "\n",
    "- mpg = miles per gallon of car model\n",
    " \n",
    "- horsepower = horsepower of car model\n",
    "\n",
    "Running a simple linear regression of form:\n",
    "\n",
    "$$\\text{mpg} \\sim b_0 + b_1\\text{horsepower} + \\epsilon \\\\ \\text{where } \\epsilon \\sim N(0,1)$$\n",
    "\n",
    "yields that\n",
    "\n",
    "- $b_0 = 39.936$\n",
    "- $b_1 = -0.158$\n",
    "\n",
    "**Questions:**  Using a bootstrap approach, calculate\n",
    "\n",
    "- the mean (i.e. expected value) of both coefficients \n",
    "\n",
    "- the standard error of both coefficients \n",
    "\n",
    "- the estimate intervals for both coefficients using a confidence level of $95\\%$\n",
    "\n"
   ]
  },
  {
   "cell_type": "code",
   "execution_count": 50,
   "metadata": {},
   "outputs": [],
   "source": [
    "data  = Datasets.cars(dtype=\"numpy\")\n",
    "mpg, horsepower = data[:,0], data[:,1]"
   ]
  },
  {
   "cell_type": "markdown",
   "metadata": {},
   "source": [
    "## Solution 2"
   ]
  }
 ],
 "metadata": {
  "kernelspec": {
   "display_name": "Python 3",
   "language": "python",
   "name": "python3"
  },
  "language_info": {
   "codemirror_mode": {
    "name": "ipython",
    "version": 3
   },
   "file_extension": ".py",
   "mimetype": "text/x-python",
   "name": "python",
   "nbconvert_exporter": "python",
   "pygments_lexer": "ipython3",
   "version": "3.8.3"
  }
 },
 "nbformat": 4,
 "nbformat_minor": 4
}