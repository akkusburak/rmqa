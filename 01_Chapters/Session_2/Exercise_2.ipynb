{
 "cells": [
  {
   "cell_type": "code",
   "execution_count": 24,
   "metadata": {},
   "outputs": [],
   "source": [
    "%load_ext autoreload"
   ]
  },
  {
   "cell_type": "code",
   "execution_count": 29,
   "metadata": {},
   "outputs": [],
   "source": [
    "import sys\n",
    "import os.path as path\n",
    "\n",
    "file_path =  path.abspath(path.join(\"utils.py\" ,\"../../..\"))\n",
    "sys.path.append(file_path)"
   ]
  },
  {
   "cell_type": "code",
   "execution_count": 30,
   "metadata": {},
   "outputs": [],
   "source": [
    "from pathlib import Path"
   ]
  },
  {
   "cell_type": "code",
   "execution_count": 31,
   "metadata": {},
   "outputs": [
    {
     "data": {
      "text/plain": [
       "PosixPath('/Users/felix/Dropbox/02_FH/01 Lehre/2021 WiSe/rmqa/01_Chapters/Session_2')"
      ]
     },
     "execution_count": 31,
     "metadata": {},
     "output_type": "execute_result"
    }
   ],
   "source": [
    "Path.cwd()"
   ]
  },
  {
   "cell_type": "code",
   "execution_count": 32,
   "metadata": {},
   "outputs": [
    {
     "name": "stdout",
     "output_type": "stream",
     "text": [
      "/Users/felix/Dropbox/02_FH/01 Lehre/2021 WiSe/rmqa/01_Chapters/Session_2\n",
      "           Price\n",
      "0   12866.790039\n",
      "1   13236.379883\n",
      "2   13249.009766\n",
      "3   12981.969727\n",
      "4   11890.349609\n",
      "5    9935.839844\n",
      "6   10861.639648\n",
      "7   11586.849609\n",
      "8   12310.929688\n",
      "9   12313.360352\n",
      "10  12945.379883\n",
      "11  13217.669922\n",
      "12  13214.440430\n"
     ]
    }
   ],
   "source": [
    "import numpy as np\n",
    "import utils"
   ]
  },
  {
   "cell_type": "markdown",
   "metadata": {},
   "source": [
    "# Exercise 1 "
   ]
  },
  {
   "cell_type": "markdown",
   "metadata": {},
   "source": [
    "Show (with an example) that the median and the $50^{th}$ percentile are the same"
   ]
  },
  {
   "cell_type": "markdown",
   "metadata": {},
   "source": [
    "## Solution 1"
   ]
  },
  {
   "cell_type": "code",
   "execution_count": 4,
   "metadata": {},
   "outputs": [
    {
     "data": {
      "text/plain": [
       "True"
      ]
     },
     "execution_count": 4,
     "metadata": {},
     "output_type": "execute_result"
    }
   ],
   "source": [
    "numbers = [1022,23,23,21,31,5,5,7,8,9,0,0,3,12,325,46]\n",
    "np.median(numbers) == np.percentile(numbers,50)"
   ]
  }
 ],
 "metadata": {
  "kernelspec": {
   "display_name": "Python 3",
   "language": "python",
   "name": "python3"
  },
  "language_info": {
   "codemirror_mode": {
    "name": "ipython",
    "version": 3
   },
   "file_extension": ".py",
   "mimetype": "text/x-python",
   "name": "python",
   "nbconvert_exporter": "python",
   "pygments_lexer": "ipython3",
   "version": "3.8.3"
  }
 },
 "nbformat": 4,
 "nbformat_minor": 4
}
