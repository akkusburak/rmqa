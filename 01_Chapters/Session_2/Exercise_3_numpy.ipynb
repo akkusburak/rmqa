{
 "cells": [
  {
   "cell_type": "code",
   "execution_count": null,
   "metadata": {},
   "outputs": [],
   "source": [
    "# Execute before using this notebook\n",
    "\n",
    "import sys\n",
    "import os.path as path\n",
    "\n",
    "kernel = str(get_ipython())\n",
    "\n",
    "if 'google.colab' in kernel:    \n",
    "    !rm -rf sample_data\n",
    "    !rm -rf Datasets\n",
    "    !rm -rf local_modules \n",
    "    !wget https://raw.githubusercontent.com/fredzett/rmqa/master/utils.py -P local_modules -nc # Import own module\n",
    "    !npx degit fredzett/rmqa/02_Datasets Datasets\n",
    "\n",
    "    import sys\n",
    "    sys.path.append('local_modules')\n",
    "elif \"ipykernel\" in kernel:\n",
    "    file_path =  os.path.abspath(path.join(\"utils.py\" ,\"../../..\"))\n",
    "    sys.path.append(file_path)  "
   ]
  },
  {
   "cell_type": "code",
   "execution_count": null,
   "metadata": {},
   "outputs": [],
   "source": [
    "import numpy as np\n",
    "from utils import Datasets, plot_line"
   ]
  },
  {
   "cell_type": "markdown",
   "metadata": {},
   "source": [
    "# Exercise 1"
   ]
  },
  {
   "cell_type": "markdown",
   "metadata": {},
   "source": [
    "You are given the monthly index levels for the DAX 30 (stock index for the 30 largest companies in Germany, see [here](https://en.wikipedia.org/wiki/DAX)). \n",
    "\n",
    "- first entry: index level end of January 1990\n",
    "- last entry: index level end of December 2019"
   ]
  },
  {
   "cell_type": "markdown",
   "metadata": {},
   "source": [
    "**Please answer the following questions:**\n",
    "\n",
    "1. What was the index level at March 1991?\n",
    "\n",
    "2. What was the average index level in the first 12 month (i.e. in 1990)\n",
    "\n",
    "3. What was the average index level in the year 2000\n",
    "\n",
    "3. What was the maximum index level in the last 12 month (i.e. in 2019)\n",
    "\n",
    "4. When was the maximum index level in 2019 reached (i.e. which month)\n",
    "\n",
    "4. Calculate the monthly returns for the Dax. Monthly return ($r_i$) is defined as  $$r_i = \\frac{P_i}{P_{i-1}} - 1$$\n",
    "\n",
    "5. Calculate the monthly mean, median and standard deviation of returns (from February 1990 to December 2019)\n",
    "\n",
    "6. What is the $95^{th}$ percentile of monthly returns? What does this?\n",
    "\n",
    "7. Were there more months with positive or negative monthly returns?\n",
    "\n",
    "8. How many month had a monthly return of below $-10\\%$\n",
    "\n",
    "7. Calculate a trimmed mean, median and standard deviation of returns where upper and lower $1%$ of returns are not included. What do you notice about the numbers?\n",
    "\n",
    "8. Determine the months that were excluced for the trimmed return series (note: numpy indices are sufficient)\n",
    "\n",
    "9. Write a function that calculates the trimmed mean where the user of this function can choose the lower and upper percentile\n",
    "\n",
    "10. Make the above function more flexible and also enable calculation of other descriptive statistics (advanced!)"
   ]
  },
  {
   "cell_type": "code",
   "execution_count": null,
   "metadata": {},
   "outputs": [],
   "source": [
    "dax = Datasets.dax_monthly()\n",
    "dax.shape"
   ]
  },
  {
   "cell_type": "markdown",
   "metadata": {
    "toc-hr-collapsed": true,
    "toc-nb-collapsed": true
   },
   "source": [
    "## Solutions 1"
   ]
  },
  {
   "cell_type": "code",
   "execution_count": null,
   "metadata": {},
   "outputs": [],
   "source": [
    "# Index level in March 1991 \n",
    "dax[14]"
   ]
  },
  {
   "cell_type": "code",
   "execution_count": null,
   "metadata": {},
   "outputs": [],
   "source": [
    "# Average index level in 1990\n",
    "dax[:12].mean()"
   ]
  },
  {
   "cell_type": "code",
   "execution_count": null,
   "metadata": {},
   "outputs": [],
   "source": [
    "# Average index level in year 2000\n",
    "jan = (2000 - 1990)*12\n",
    "dec = jan +12\n",
    "dax[jan:dec].mean()"
   ]
  },
  {
   "cell_type": "code",
   "execution_count": null,
   "metadata": {},
   "outputs": [],
   "source": [
    "# Maximum index level in 2019\n",
    "year = dax[-12:]\n",
    "year.max()"
   ]
  },
  {
   "cell_type": "code",
   "execution_count": null,
   "metadata": {},
   "outputs": [],
   "source": [
    "# When was maximm index level in 2019 reached\n",
    "year.argmax() # in December"
   ]
  },
  {
   "cell_type": "code",
   "execution_count": null,
   "metadata": {},
   "outputs": [],
   "source": [
    "# Calculalte return\n",
    "ret = dax[1:] / dax[:-1] - 1\n",
    "ret.shape"
   ]
  },
  {
   "cell_type": "code",
   "execution_count": null,
   "metadata": {},
   "outputs": [],
   "source": [
    "# Calculate monthly standard deviation\n",
    "mean = ret.mean()\n",
    "median = np.median(ret)\n",
    "std = ret.std(ddof=1) # DoF = 1 for sample standard deviation\n",
    "mean, median, std"
   ]
  },
  {
   "cell_type": "code",
   "execution_count": null,
   "metadata": {},
   "outputs": [],
   "source": [
    "# 95th percentile. \n",
    "np.percentile(ret,95)"
   ]
  },
  {
   "cell_type": "markdown",
   "metadata": {},
   "source": [
    "The $95^{th}$ percentile means that $95%$ of monthly returns are below this number. \n",
    "\n",
    "Let's see if we can check if the number seems valid. Our analysis implies that $5\\%$ of our data has a higher return, i.e. ~18 data points (359*5%)."
   ]
  },
  {
   "cell_type": "code",
   "execution_count": null,
   "metadata": {},
   "outputs": [],
   "source": [
    "np.sum(ret > 0.0887)"
   ]
  },
  {
   "cell_type": "markdown",
   "metadata": {},
   "source": [
    "We can also directly look a the data and check. "
   ]
  },
  {
   "cell_type": "code",
   "execution_count": null,
   "metadata": {},
   "outputs": [],
   "source": [
    "np.sort(ret)[-18:]"
   ]
  },
  {
   "cell_type": "code",
   "execution_count": null,
   "metadata": {},
   "outputs": [],
   "source": [
    "# Were there more months with positive or negative monthly returns?\n",
    "np.sum(ret >0), np.sum(ret < 0) "
   ]
  },
  {
   "cell_type": "code",
   "execution_count": null,
   "metadata": {},
   "outputs": [],
   "source": [
    "# How many month had a below 10% return\n",
    "np.sum(ret < -0.1)"
   ]
  },
  {
   "cell_type": "code",
   "execution_count": null,
   "metadata": {},
   "outputs": [],
   "source": [
    "# Trimmed mean excluding upper and lower 1%\n",
    "lbound, ubound = np.quantile(ret,[.01,.99])\n",
    "mask = (ret > lbound) & (ret < ubound)\n",
    "ret_no_outlier = ret[mask]\n",
    "ret_no_outlier.mean(), np.median(ret_no_outlier), ret_no_outlier.std(ddof=1)"
   ]
  },
  {
   "cell_type": "markdown",
   "metadata": {},
   "source": [
    "Mean and standard deviation change given their sensitivity to outliers. Median does not change as it is not sensitive to outliers."
   ]
  },
  {
   "cell_type": "code",
   "execution_count": null,
   "metadata": {},
   "outputs": [],
   "source": [
    "# Determine the months that were excluded\n",
    "excluded = (ret < lbound) | (ret > ubound)\n",
    "np.argwhere(excluded)"
   ]
  },
  {
   "cell_type": "markdown",
   "metadata": {},
   "source": [
    "Alternatively we can also use the negation of what we have previously calculated"
   ]
  },
  {
   "cell_type": "code",
   "execution_count": null,
   "metadata": {},
   "outputs": [],
   "source": [
    "np.argwhere(~mask)"
   ]
  },
  {
   "cell_type": "code",
   "execution_count": null,
   "metadata": {},
   "outputs": [],
   "source": [
    "# Function \"trimmed mean\"\n",
    "def trimmed_mean(data,lbound,ubound):\n",
    "    low,up = np.quantile(data,[lbound,ubound])\n",
    "    mask = (data > low) & (data < up)\n",
    "    mean = np.mean(data[mask])\n",
    "    return mean"
   ]
  },
  {
   "cell_type": "code",
   "execution_count": null,
   "metadata": {},
   "outputs": [],
   "source": [
    "trimmed_mean(ret,0.01,0.99)"
   ]
  },
  {
   "cell_type": "code",
   "execution_count": null,
   "metadata": {},
   "outputs": [],
   "source": [
    "# More flexible function \n",
    "def trimmed(data,lbound, ubound,f):\n",
    "    low,up = np.quantile(data,[lbound,ubound])\n",
    "    mask = (data > low) & (data < up)\n",
    "    stat = f(data[mask])\n",
    "    return stat"
   ]
  },
  {
   "cell_type": "code",
   "execution_count": null,
   "metadata": {},
   "outputs": [],
   "source": [
    "trimmed(ret, 0.01,0.99, np.median)"
   ]
  },
  {
   "cell_type": "markdown",
   "metadata": {},
   "source": [
    "# Exercise 2"
   ]
  },
  {
   "cell_type": "markdown",
   "metadata": {},
   "source": [
    "You are given the below **project cash flows** for the coming years $1, \\ldots, 10$:\n",
    "\n",
    "|    1   |  2  |  3  |  4  |  5  |  6  |  7  |  8  |  9  |  10 |\n",
    "|:------:|:---:|:---:|:---:|:---:|:---:|:---:|:---:|:---:|:---:|\n",
    "| -1.000 | 200 | 210 | 221 | 232 | 243 | 255 | 268 | 281 | 295 |\n",
    "\n",
    "The cost of capital ($r$) is  $5\\%$.\n",
    "\n",
    "Please answer the **folowing questions**:\n",
    "\n",
    "1. The net present value of the project\n",
    "\n",
    "2. The payback period of the project (how long (here: years) does it take until the money is earned back)\n",
    "\n",
    "    1. for nominal cash flows\n",
    "    \n",
    "    2. for discounted cash flows\n",
    "\n",
    "\n",
    "3. Function to calculate the npv (NOTE: assume that initial year is always Year 1)\n",
    "\n",
    "4. Calculate the internal rate of return, i.e. calcualte $r$ for with the Net Present Value is $0$ \n",
    "\n",
    "\n",
    "\n",
    "----\n",
    "\n",
    "**Note**: the net present value (npv) is defined as: \n",
    "\n",
    "$$\\text{NPV} = \\sum_t^T CF_t \\cdot \\frac{1}{(1+r)^t}$$\n"
   ]
  },
  {
   "cell_type": "markdown",
   "metadata": {},
   "source": [
    "## Solution 2"
   ]
  },
  {
   "cell_type": "code",
   "execution_count": null,
   "metadata": {},
   "outputs": [],
   "source": [
    "# Assumptions from exercise\n",
    "cfs = np.array((-1000,200,210,221,232,243,255,268,281,295))\n",
    "r = 0.05\n",
    "t = np.arange(1,11)"
   ]
  },
  {
   "cell_type": "markdown",
   "metadata": {},
   "source": [
    "**What is the net present value?**"
   ]
  },
  {
   "cell_type": "code",
   "execution_count": null,
   "metadata": {},
   "outputs": [],
   "source": [
    "npv = np.sum(cfs * 1/(1+r)**t)\n",
    "print(\"The project NPV is:\", npv)"
   ]
  },
  {
   "cell_type": "markdown",
   "metadata": {},
   "source": [
    "**What is the payback period**"
   ]
  },
  {
   "cell_type": "markdown",
   "metadata": {},
   "source": [
    "(1) Nominal"
   ]
  },
  {
   "cell_type": "code",
   "execution_count": null,
   "metadata": {},
   "outputs": [],
   "source": [
    "# What is the Payback period\n",
    "pb_nominal = np.cumsum(cfs)\n",
    "pb_nominal"
   ]
  },
  {
   "cell_type": "code",
   "execution_count": null,
   "metadata": {},
   "outputs": [],
   "source": [
    "idx = min(np.argwhere(pb_nominal > 0))\n",
    "t[idx] # Year 6"
   ]
  },
  {
   "cell_type": "markdown",
   "metadata": {},
   "source": [
    "(2) Discounted"
   ]
  },
  {
   "cell_type": "code",
   "execution_count": null,
   "metadata": {},
   "outputs": [],
   "source": [
    "\n",
    "pb_discounted = np.cumsum(cfs * 1/(1+r)**t)\n",
    "pb_discounted"
   ]
  },
  {
   "cell_type": "code",
   "execution_count": null,
   "metadata": {},
   "outputs": [],
   "source": [
    "idx = min(np.argwhere(pb_discounted > 0))\n",
    "t[idx] # Year 7"
   ]
  },
  {
   "cell_type": "markdown",
   "metadata": {},
   "source": [
    "**Function to calculate NPV**"
   ]
  },
  {
   "cell_type": "code",
   "execution_count": null,
   "metadata": {},
   "outputs": [],
   "source": [
    "def npv(cfs, r=0.05):\n",
    "    t = np.arange(1,len(cfs)+1) # t depend on length of cfs\n",
    "    df = 1 / (1 + r) ** t\n",
    "    return np.sum(cfs * df)"
   ]
  },
  {
   "cell_type": "code",
   "execution_count": null,
   "metadata": {},
   "outputs": [],
   "source": [
    "cashflows = np.array((200,300,100,400))\n",
    "npv(cashflows) # NPV for r = 5%"
   ]
  },
  {
   "cell_type": "code",
   "execution_count": null,
   "metadata": {},
   "outputs": [],
   "source": [
    "npv(cfs,r=0.1) # NPV for r = 10%"
   ]
  },
  {
   "cell_type": "markdown",
   "metadata": {},
   "source": [
    "**Internal rate of return**"
   ]
  },
  {
   "cell_type": "code",
   "execution_count": null,
   "metadata": {},
   "outputs": [],
   "source": [
    "# Calculate NPVs for different r\n",
    "rs = np.linspace(0.001,0.3,1000)\n",
    "npvs = np.empty(len(rs))\n",
    "for i, r in enumerate(rs):\n",
    "    npvs[i] = npv(cfs,r)"
   ]
  },
  {
   "cell_type": "code",
   "execution_count": null,
   "metadata": {},
   "outputs": [],
   "source": [
    "# Find NPV lowest to zero\n",
    "idx = (np.abs(npvs)).argmin()\n",
    "irr = rs[idx]\n",
    "irr # when r ~18% the NPV is zero "
   ]
  },
  {
   "cell_type": "code",
   "execution_count": null,
   "metadata": {},
   "outputs": [],
   "source": [
    "npv(cfs,irr) # Check"
   ]
  },
  {
   "cell_type": "markdown",
   "metadata": {},
   "source": [
    "Visual inspection"
   ]
  },
  {
   "cell_type": "code",
   "execution_count": null,
   "metadata": {},
   "outputs": [],
   "source": [
    "plot_line(rs,npvs);"
   ]
  },
  {
   "cell_type": "code",
   "execution_count": null,
   "metadata": {},
   "outputs": [],
   "source": []
  }
 ],
 "metadata": {
  "kernelspec": {
   "display_name": "Python 3",
   "language": "python",
   "name": "python3"
  },
  "language_info": {
   "codemirror_mode": {
    "name": "ipython",
    "version": 3
   },
   "file_extension": ".py",
   "mimetype": "text/x-python",
   "name": "python",
   "nbconvert_exporter": "python",
   "pygments_lexer": "ipython3",
   "version": "3.8.3-final"
  }
 },
 "nbformat": 4,
 "nbformat_minor": 4
}