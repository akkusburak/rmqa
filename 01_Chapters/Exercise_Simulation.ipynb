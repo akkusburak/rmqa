{
 "cells": [
  {
   "cell_type": "markdown",
   "metadata": {},
   "source": [
    "# Simulation Exercises"
   ]
  },
  {
   "cell_type": "code",
   "execution_count": 86,
   "metadata": {},
   "outputs": [],
   "source": [
    "import numpy as np\n",
    "import pandas as pd\n",
    "import matplotlib.pyplot as plt\n",
    "import seaborn as sns\n",
    "\n",
    "plt.style.use(\"fivethirtyeight\")"
   ]
  },
  {
   "cell_type": "markdown",
   "metadata": {},
   "source": [
    "## The Monte Hall Problem"
   ]
  },
  {
   "cell_type": "markdown",
   "metadata": {},
   "source": [
    "The problem is loosely based on the American TV (game) show *Let's Make a Deal* and is named after its original host, Monty Hall. \n",
    "\n",
    "The problem became very famous as a quesiton from a reader's letter quoted in Marilyn vos Savant's \"Ask Marilyn\" column in a US magazine in 1990. \n",
    "\n",
    "The question was as follows:\n",
    "\n",
    "> Suppose you're on a game show, and you're given the choice of three doors: Behind one door is a car; behind the others, goats. You pick a door, say No. 1, and the host, who knows what's behind the doors, opens another door, say No. 3, which has a goat. He then says to you, \"Do you want to pick door No. 2?\" Is it to your advantage to switch your choice?\n",
    "\n",
    "### The Problem\n",
    "\n",
    "There are 3 doors in front of you, and there is a prize behind one of them (a brand new car!).\n",
    "Once you select a door, the moderator will open one of the two you had not selected which does not have a prize behind it.\n",
    "You will then have the opportunity to switch from the door you originally selected to an alternate door.\n",
    "\n",
    "Here are some examples\n",
    "\n",
    "| Door 1 | Door 2 | Door 3 | Monte Hall opens... | Result from Switch | Result from stay |\n",
    "|:------:|:------:|:------:|:------------------------:|:------------------:|:----------------:|\n",
    "|   Car  |  Goat  |  Goat  |        Door 2 or 3       |        Goat        |        Car       |\n",
    "|  Goat  |   Car  |  Goat  |          Door 3          |         Car        |       Goat       |\n",
    "|  Goat  |  Goat  |   Car  |          Door 2          |         Car        |       Goat       |\n",
    "\n",
    "**Question** Is it  better to switch or to stay with your initial choice? (Assuming you want to win the car!)"
   ]
  },
  {
   "cell_type": "markdown",
   "metadata": {},
   "source": [
    "The problem became so famous because Vos Savant's response was that the contestant should switch to the other door because switching would give you a probability of $\\frac{2}{3}$ of winning the car. Many famous mathematicians disputed the result but it turns out that under the above assumptions the answer is actually correct. See [here](https://en.wikipedia.org/wiki/Monty_Hall_problem) for more infos regarding the problem. "
   ]
  },
  {
   "cell_type": "markdown",
   "metadata": {
    "toc-hr-collapsed": true,
    "toc-nb-collapsed": true
   },
   "source": [
    "### Solution to Monte Hall Problem"
   ]
  },
  {
   "cell_type": "code",
   "execution_count": 154,
   "metadata": {},
   "outputs": [
    {
     "name": "stdout",
     "output_type": "stream",
     "text": [
      "Prob(Car | Switch) =  0.649\n",
      "Prob(Car | No Switch) =  0.351\n"
     ]
    }
   ],
   "source": [
    "n = 1000\n",
    "win_no_switch = 0\n",
    "win_switch = 0\n",
    "\n",
    "for i in range(n):\n",
    "    doors = [1,2,3]\n",
    "    win_door = np.random.choice(doors)\n",
    "    choice = np.random.choice(doors)\n",
    "    if win_door == choice: # 1/3\n",
    "        win_no_switch += 1\n",
    "    doors_left = doors[:]\n",
    "    doors_left.remove(choice)\n",
    "    if any(win_door == doors_left):\n",
    "        win_switch += 1\n",
    "print(\"Prob(Car | Switch) = \", win_switch/n)\n",
    "print(\"Prob(Car | No Switch) = \", win_no_switch/n)"
   ]
  },
  {
   "cell_type": "markdown",
   "metadata": {},
   "source": [
    "## Birthday Problem"
   ]
  },
  {
   "cell_type": "markdown",
   "metadata": {},
   "source": [
    "The birthday problem or birthday paradox concerns the probability that, in a set of n randomly chosen people, some pair of them will have the same birthday. The problem is a good example that assessing probabilities is often difficult and results are often non-intuitive. \n",
    "\n"
   ]
  },
  {
   "cell_type": "markdown",
   "metadata": {},
   "source": [
    "> Given a room with 23 randomly selected pople, what is the probability that at least two have the same birthday?"
   ]
  },
  {
   "cell_type": "markdown",
   "metadata": {},
   "source": [
    "### Solution to birthday problem"
   ]
  },
  {
   "cell_type": "code",
   "execution_count": 155,
   "metadata": {},
   "outputs": [],
   "source": [
    "def simulate_birthdays(n,group_size):\n",
    "    same_day = 0\n",
    "    alldays = np.arange(1,366,1)\n",
    "    for i in range(n):\n",
    "        bdays = np.random.choice(alldays,size=group_size,replace=True)\n",
    "        if len(bdays) != len(set(bdays)):\n",
    "            same_day += 1\n",
    "    return same_day / n"
   ]
  },
  {
   "cell_type": "code",
   "execution_count": 135,
   "metadata": {},
   "outputs": [
    {
     "data": {
      "text/plain": [
       "0.507"
      ]
     },
     "execution_count": 135,
     "metadata": {},
     "output_type": "execute_result"
    }
   ],
   "source": [
    "n = 1_000\n",
    "group_size = 23\n",
    "simulate_birthdays(n,group_size)"
   ]
  },
  {
   "cell_type": "code",
   "execution_count": 150,
   "metadata": {},
   "outputs": [],
   "source": [
    "n = 100\n",
    "prob_by_group_size = [simulate_birthdays(n,s) for s in np.arange(1,101,1)]\n",
    "#prob_by_group_size2 = [simulate_birthdays(n,s) for s in np.arange(1,101,1)]"
   ]
  },
  {
   "cell_type": "code",
   "execution_count": 153,
   "metadata": {},
   "outputs": [
    {
     "data": {
      "image/png": "[encoded data removed]",
      "text/plain": [
       "<Figure size 432x288 with 1 Axes>"
      ]
     },
     "metadata": {},
     "output_type": "display_data"
    }
   ],
   "source": [
    "plt.plot(prob_by_group_size)\n",
    "#plt.plot(prob_by_group_size2, alpha=0.5)\n",
    "plt.vlines(23,ymin=0,ymax=0.5,linestyles=\"--\")\n",
    "plt.hlines(0.5,xmin=0, xmax=23, linestyles=\"--\");\n",
    "sns.despine()"
   ]
  },
  {
   "cell_type": "markdown",
   "metadata": {},
   "source": [
    "Note: the mathematical solution to this problem can be derived as follows:\n",
    "\n",
    "- there are $m = 365^n$ combinations of birthdays for a group of $n$ people\n",
    "\n",
    "    **example**: two people = $365^2 = 133.225$ combinations)\n",
    "- of these combinations there are only $u = 365 \\cdot 364 \\cdot \\ldots \\cdot (365 - (n - 1))$ non-overlapping combinations\n",
    "\n",
    "    **exmample**: two people. The first person has 365 possible birthdays, but the second can only have his birthday on 364 days if the birthday is not the same day\n",
    "    \n",
    "- this gives the probability of $$\\frac{u}{m} = \\frac{365 \\cdot 364 \\cdot \\ldots \\cdot (365 - (n - 1))}{365^n}$$ \n",
    "\n",
    "    for $n$ persons that have their birthdays on different (i.e. non overlapping) days. \n",
    "    \n",
    "- the probability for an overla is the $$P = 1 - \\frac{u}{m}$$\n",
    "\n",
    "- this can be approximated using $$P \\approx = 1 - \\frac{365!}{(365-n)! \\cdot 365^n}$$\n",
    "\n",
    "Let's check if the analytical result matches the simulation"
   ]
  },
  {
   "cell_type": "code",
   "execution_count": 178,
   "metadata": {},
   "outputs": [],
   "source": [
    "import math"
   ]
  },
  {
   "cell_type": "code",
   "execution_count": 184,
   "metadata": {},
   "outputs": [
    {
     "data": {
      "text/plain": [
       "0.5072972343239854"
      ]
     },
     "execution_count": 184,
     "metadata": {},
     "output_type": "execute_result"
    }
   ],
   "source": [
    "days = 365\n",
    "n = 23\n",
    "P = 1 - math.factorial(days) / (math.factorial(days-n) * days**n)\n",
    "P"
   ]
  }
 ],
 "metadata": {
  "kernelspec": {
   "display_name": "Python 3",
   "language": "python",
   "name": "python3"
  },
  "language_info": {
   "codemirror_mode": {
    "name": "ipython",
    "version": 3
   },
   "file_extension": ".py",
   "mimetype": "text/x-python",
   "name": "python",
   "nbconvert_exporter": "python",
   "pygments_lexer": "ipython3",
   "version": "3.8.3"
  },
  "toc-autonumbering": true
 },
 "nbformat": 4,
 "nbformat_minor": 4
}
