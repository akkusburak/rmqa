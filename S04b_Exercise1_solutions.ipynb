{
 "cells": [
  {
   "cell_type": "code",
   "execution_count": 3,
   "metadata": {},
   "outputs": [],
   "source": [
    "# Execute before using this notebook if using google colab\n",
    "\n",
    "kernel = str(get_ipython())\n",
    "\n",
    "if 'google.colab' in kernel:    \n",
    "    !wget https://raw.githubusercontent.com/fredzett/rmqa/master/utils.py -P local_modules -nc \n",
    "    !npx degit fredzett/rmqa/data data\n",
    "    import sys\n",
    "    sys.path.append('local_modules')"
   ]
  },
  {
   "cell_type": "code",
   "execution_count": 4,
   "metadata": {},
   "outputs": [],
   "source": [
    "import numpy as np\n",
    "import scipy.stats as stats\n",
    "from utils import Datasets, plot_density, plot_hist, plot_line\n",
    "import matplotlib.pyplot as plt\n",
    "import seaborn as sns"
   ]
  },
  {
   "cell_type": "markdown",
   "metadata": {},
   "source": [
    "# Excercise 1"
   ]
  },
  {
   "cell_type": "markdown",
   "metadata": {},
   "source": [
    "Given the below data on two groups you want to test if the mean of both groups is equal. \n",
    "\n",
    "1. formulate a research hypothesis for this problem\n",
    "\n",
    "2. test your hypothesis using a two sample t-test\n",
    "\n",
    "3. calculate the sample distribution for your estimator\n",
    "\n",
    "4. test your hypothesis using a bootstrap approach\n",
    "\n",
    "5. what is your conclusion?"
   ]
  },
  {
   "cell_type": "code",
   "execution_count": 5,
   "metadata": {},
   "outputs": [
    {
     "data": {
      "text/plain": [
       "(100.00764719249781, 104.99738205065616)"
      ]
     },
     "execution_count": 5,
     "metadata": {},
     "output_type": "execute_result"
    }
   ],
   "source": [
    "n = 10_000\n",
    "group1 = stats.norm(100,2).rvs(n)\n",
    "group2 = stats.norm(105,2).rvs(n)\n",
    "np.mean(group1), np.mean(group2)"
   ]
  },
  {
   "cell_type": "markdown",
   "metadata": {},
   "source": [
    "## Solution 1"
   ]
  },
  {
   "cell_type": "markdown",
   "metadata": {},
   "source": [
    "A research hypothesis could be:\n",
    "\n",
    "The standard deviation of both groups differs. Therefore, commonly we would test:\n",
    "\n",
    "$$H_0: \\mu_1 = \\mu_2$$\n",
    "$$H_1: \\mu_1 \\neq \\mu_2$$\n"
   ]
  },
  {
   "cell_type": "code",
   "execution_count": 6,
   "metadata": {},
   "outputs": [
    {
     "data": {
      "text/plain": [
       "Ttest_indResult(statistic=-176.79741837791929, pvalue=0.0)"
      ]
     },
     "execution_count": 6,
     "metadata": {},
     "output_type": "execute_result"
    }
   ],
   "source": [
    "stats.ttest_ind(group1,group2) # Conclusion: H0 can be rejected given the small p value"
   ]
  },
  {
   "cell_type": "code",
   "execution_count": 7,
   "metadata": {},
   "outputs": [],
   "source": [
    "def boot(sims, g1,g2):\n",
    "    'Assumes both groups have equal size'\n",
    "    thetas = np.empty(sims)\n",
    "    n = len(g1)\n",
    "    for i in range(sims):\n",
    "        smpl1 = np.random.choice(g1,size=n, replace=True)\n",
    "        smpl2 = np.random.choice(g2, size=n, replace=True)\n",
    "        thetas[i] = np.mean(smpl1) - np.mean(smpl2)\n",
    "    return thetas\n",
    "        "
   ]
  },
  {
   "cell_type": "code",
   "execution_count": 8,
   "metadata": {},
   "outputs": [
    {
     "data": {
      "image/png": "[encoded data removed]",
      "text/plain": [
       "<Figure size 648x504 with 1 Axes>"
      ]
     },
     "metadata": {
      "needs_background": "light"
     },
     "output_type": "display_data"
    }
   ],
   "source": [
    "estimators = boot(10000, group1, group2)\n",
    "plot_density(estimators);"
   ]
  },
  {
   "cell_type": "code",
   "execution_count": 9,
   "metadata": {},
   "outputs": [
    {
     "data": {
      "text/plain": [
       "array([-5.04608578, -5.02626827])"
      ]
     },
     "execution_count": 9,
     "metadata": {},
     "output_type": "execute_result"
    }
   ],
   "source": [
    "np.quantile(estimators, [0.024999, 0.0975]) # Conclusion: the difference between group1 and group2 is with a probablity of 95% between the below values"
   ]
  },
  {
   "cell_type": "markdown",
   "metadata": {},
   "source": [
    "# Exercise 2"
   ]
  },
  {
   "cell_type": "markdown",
   "metadata": {},
   "source": [
    "You are given the below dataset containing of car models (see [here](http://faculty.marshall.usc.edu/gareth-james/ISL/data.html) for original dataset). Four our purposes in this excercise the data contains two features for $392$ car models:\n",
    "\n",
    "- mpg = miles per gallon of car model\n",
    " \n",
    "- horsepower = horsepower of car model\n",
    "\n",
    "Running a simple linear regression of form:\n",
    "\n",
    "$$\\text{mpg} \\sim b_0 + b_1\\text{horsepower} + \\epsilon \\\\ \\text{where } \\epsilon \\sim N(0,1)$$\n",
    "\n",
    "yields that\n",
    "\n",
    "- $b_0 = 39.936$\n",
    "- $b_1 = -0.158$\n",
    "\n",
    "**Questions:**  Using a bootstrap approach, calculate\n",
    "\n",
    "- the mean (i.e. expected value) of both coefficients \n",
    "\n",
    "- the standard error of both coefficients \n",
    "\n",
    "- the estimate intervals for both coefficients using a confidence level of $95\\%$\n",
    "\n"
   ]
  },
  {
   "cell_type": "code",
   "execution_count": 50,
   "metadata": {},
   "outputs": [],
   "source": [
    "data  = Datasets.cars(dtype=\"numpy\")\n",
    "mpg, horsepower = data[:,0], data[:,1]"
   ]
  },
  {
   "cell_type": "markdown",
   "metadata": {},
   "source": [
    "## Solution 2"
   ]
  },
  {
   "cell_type": "code",
   "execution_count": 51,
   "metadata": {},
   "outputs": [],
   "source": [
    "def beta1(x,y):\n",
    "    return np.sum((x - np.mean(x))*(y - np.mean(y))) / np.sum((x - np.mean(x))**2)\n",
    "\n",
    "def beta0(x,y):\n",
    "    xbar, ybar = np.mean(x), np.mean(y)\n",
    "    b1 = beta1(x,y)\n",
    "    return ybar - b1*xbar"
   ]
  },
  {
   "cell_type": "code",
   "execution_count": 52,
   "metadata": {},
   "outputs": [],
   "source": [
    "def bootstrap_b0_b1(sims, x,y):\n",
    "    n = len(x)\n",
    "    thetas = np.empty((sims,2))\n",
    "    for i in range(sims):\n",
    "        idx = np.random.choice(range(n),n, replace=True)\n",
    "        smpl_x, smpl_y = x[idx], y[idx]\n",
    "        thetas[i,0] = beta0(smpl_x, smpl_y)\n",
    "        thetas[i,1] = beta1(smpl_x, smpl_y)\n",
    "    return thetas"
   ]
  },
  {
   "cell_type": "code",
   "execution_count": 53,
   "metadata": {},
   "outputs": [],
   "source": [
    "thetas = bootstrap_b0_b1(10_000, horsepower, mpg)\n",
    "b0, b1 = thetas[:,0], thetas[:, 1]"
   ]
  },
  {
   "cell_type": "code",
   "execution_count": 54,
   "metadata": {},
   "outputs": [
    {
     "data": {
      "text/plain": [
       "(39.963190289092765, -0.15815316369192256)"
      ]
     },
     "execution_count": 54,
     "metadata": {},
     "output_type": "execute_result"
    }
   ],
   "source": [
    "np.mean(b0), np.mean(b1)"
   ]
  },
  {
   "cell_type": "code",
   "execution_count": 56,
   "metadata": {},
   "outputs": [
    {
     "data": {
      "text/plain": [
       "(0.8607226452744686, 0.007473520736660802)"
      ]
     },
     "execution_count": 56,
     "metadata": {},
     "output_type": "execute_result"
    }
   ],
   "source": [
    "np.std(b0), np.std(b1)"
   ]
  },
  {
   "cell_type": "code",
   "execution_count": 57,
   "metadata": {},
   "outputs": [
    {
     "data": {
      "image/png": "[encoded data removed]",
      "text/plain": [
       "<Figure size 648x504 with 1 Axes>"
      ]
     },
     "metadata": {
      "needs_background": "light"
     },
     "output_type": "display_data"
    }
   ],
   "source": [
    "plot_density(b0);"
   ]
  },
  {
   "cell_type": "code",
   "execution_count": 58,
   "metadata": {},
   "outputs": [
    {
     "data": {
      "image/png": "[encoded data removed]",
      "text/plain": [
       "<Figure size 648x504 with 1 Axes>"
      ]
     },
     "metadata": {
      "needs_background": "light"
     },
     "output_type": "display_data"
    }
   ],
   "source": [
    "plot_density(b1);"
   ]
  },
  {
   "cell_type": "code",
   "execution_count": 59,
   "metadata": {},
   "outputs": [
    {
     "data": {
      "text/plain": [
       "(array([38.29941632, 41.65158148]), array([-0.17325248, -0.14417817]))"
      ]
     },
     "execution_count": 59,
     "metadata": {},
     "output_type": "execute_result"
    }
   ],
   "source": [
    "np.quantile(b0, [0.025, 0.975]), np.quantile(b1, [0.025, 0.975])"
   ]
  }
 ],
 "metadata": {
  "kernelspec": {
   "display_name": "Python 3",
   "language": "python",
   "name": "python3"
  },
  "language_info": {
   "codemirror_mode": {
    "name": "ipython",
    "version": 3
   },
   "file_extension": ".py",
   "mimetype": "text/x-python",
   "name": "python",
   "nbconvert_exporter": "python",
   "pygments_lexer": "ipython3",
   "version": "3.8.3"
  }
 },
 "nbformat": 4,
 "nbformat_minor": 4
}
