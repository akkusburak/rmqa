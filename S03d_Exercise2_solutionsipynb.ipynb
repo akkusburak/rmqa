{
 "cells": [
  {
   "cell_type": "code",
   "execution_count": 71,
   "metadata": {},
   "outputs": [],
   "source": [
    "# Execute before using this notebook if using google colab\n",
    "kernel = str(get_ipython())\n",
    "\n",
    "if 'google.colab' in kernel:    \n",
    "    !wget https://raw.githubusercontent.com/fredzett/rmqa/master/utils.py -P local_modules -nc \n",
    "    !npx degit fredzett/rmqa/data data\n",
    "    import sys\n",
    "    sys.path.append('local_modules')"
   ]
  },
  {
   "cell_type": "code",
   "execution_count": 72,
   "metadata": {},
   "outputs": [],
   "source": [
    "import numpy as np \n",
    "import scipy.stats as stats\n",
    "\n",
    "from utils import Datasets, plot_bar, plot_line"
   ]
  },
  {
   "cell_type": "markdown",
   "metadata": {},
   "source": [
    "# Exercise 1"
   ]
  },
  {
   "cell_type": "markdown",
   "metadata": {},
   "source": [
    "A (regular) dice is thrown 10 times. Answer the following questions:\n",
    "\n",
    "- what is the probability that a six is shown exactly 5 times?\n",
    "\n",
    "- what is the probability that a six is shown less than 3 times?\n",
    "\n",
    "- what is the expected number of sixes shown?\n",
    "\n",
    "- what is the variance of number of sixes (if you were to repeat the experiment multiple times)?\n",
    "\n",
    "Note: a regular dice has 6 eyes (1, 2, 3, 4, 5, 6) with equal probability of being shown"
   ]
  },
  {
   "cell_type": "markdown",
   "metadata": {},
   "source": [
    "## Solution 1"
   ]
  },
  {
   "cell_type": "code",
   "execution_count": 73,
   "metadata": {},
   "outputs": [],
   "source": [
    "dice = stats.binom(10,1/6) # n = 10, p = 1/6"
   ]
  },
  {
   "cell_type": "code",
   "execution_count": 74,
   "metadata": {},
   "outputs": [
    {
     "data": {
      "text/plain": [
       "0.013023810204237185"
      ]
     },
     "execution_count": 74,
     "metadata": {},
     "output_type": "execute_result"
    }
   ],
   "source": [
    "# exactly 5 times\n",
    "dice.pmf(5)"
   ]
  },
  {
   "cell_type": "code",
   "execution_count": 75,
   "metadata": {},
   "outputs": [
    {
     "data": {
      "text/plain": [
       "0.7752267978712596"
      ]
     },
     "execution_count": 75,
     "metadata": {},
     "output_type": "execute_result"
    }
   ],
   "source": [
    "# prob for 0, 1 or 2 sixes\n",
    "dice.cdf(2)"
   ]
  },
  {
   "cell_type": "code",
   "execution_count": 76,
   "metadata": {},
   "outputs": [
    {
     "data": {
      "text/plain": [
       "1.6666666666666665"
      ]
     },
     "execution_count": 76,
     "metadata": {},
     "output_type": "execute_result"
    }
   ],
   "source": [
    "# expected number of sixes\n",
    "dice.mean()"
   ]
  },
  {
   "cell_type": "code",
   "execution_count": 77,
   "metadata": {},
   "outputs": [
    {
     "data": {
      "text/plain": [
       "1.3888888888888888"
      ]
     },
     "execution_count": 77,
     "metadata": {},
     "output_type": "execute_result"
    }
   ],
   "source": [
    "# variance in sixes\n",
    "dice.var()"
   ]
  },
  {
   "cell_type": "code",
   "execution_count": 78,
   "metadata": {},
   "outputs": [],
   "source": [
    "dice = stats.binom(12,8/30)"
   ]
  },
  {
   "cell_type": "code",
   "execution_count": 79,
   "metadata": {},
   "outputs": [
    {
     "data": {
      "text/plain": [
       "0.21110361050610466"
      ]
     },
     "execution_count": 79,
     "metadata": {},
     "output_type": "execute_result"
    }
   ],
   "source": [
    "dice.pmf(2)"
   ]
  },
  {
   "cell_type": "code",
   "execution_count": 80,
   "metadata": {},
   "outputs": [
    {
     "data": {
      "text/plain": [
       "3.2"
      ]
     },
     "execution_count": 80,
     "metadata": {},
     "output_type": "execute_result"
    }
   ],
   "source": [
    "dice.mean()"
   ]
  },
  {
   "cell_type": "code",
   "execution_count": 81,
   "metadata": {},
   "outputs": [
    {
     "data": {
      "text/plain": [
       "2.346666666666667"
      ]
     },
     "execution_count": 81,
     "metadata": {},
     "output_type": "execute_result"
    }
   ],
   "source": [
    "dice.var()"
   ]
  },
  {
   "cell_type": "markdown",
   "metadata": {},
   "source": [
    "# Exercise 2"
   ]
  },
  {
   "cell_type": "markdown",
   "metadata": {},
   "source": [
    "A class has to take a multiple choice test with $20$ questions. Each question has $5$ possible answers of which only $1$ is correct. You need to answer at least $10$ questions correctly to pass the exam. \n",
    "\n",
    "- how many correct answers would you expect to receive by purely guessing?\n",
    "\n",
    "- if $1.000$ students take the test, all of which will just guess the answers. How many of them would you expect to pass?"
   ]
  },
  {
   "cell_type": "markdown",
   "metadata": {},
   "source": [
    "## Solution 2"
   ]
  },
  {
   "cell_type": "code",
   "execution_count": 82,
   "metadata": {},
   "outputs": [],
   "source": [
    "n = 20\n",
    "p = 1/5\n",
    "bdist = stats.binom(n,p)"
   ]
  },
  {
   "cell_type": "code",
   "execution_count": 83,
   "metadata": {},
   "outputs": [
    {
     "data": {
      "text/plain": [
       "4.0"
      ]
     },
     "execution_count": 83,
     "metadata": {},
     "output_type": "execute_result"
    }
   ],
   "source": [
    "# How many correct answers would you expect by purely guessing?\n",
    "bdist.mean()"
   ]
  },
  {
   "cell_type": "code",
   "execution_count": 84,
   "metadata": {},
   "outputs": [
    {
     "data": {
      "text/plain": [
       "2.5948274006739602"
      ]
     },
     "execution_count": 84,
     "metadata": {},
     "output_type": "execute_result"
    }
   ],
   "source": [
    "# Probabilty to pass by only guessing # 1 - P(X <= 9)\n",
    "p = 1 - bdist.cdf(9)\n",
    "p*1000 # roughly 2 to 3 students could be expected to pass by only guessing"
   ]
  },
  {
   "cell_type": "markdown",
   "metadata": {},
   "source": [
    "# Exercise 3"
   ]
  },
  {
   "cell_type": "markdown",
   "metadata": {},
   "source": [
    "A random variable $X$ is binomially distributed with a mean of $6$ and a variance of $4.2$. \n",
    "\n",
    "- write a function that calculates $n$ and $p$ from mean and variance\n",
    "\n",
    "- what is $P(X \\leq 6)$?"
   ]
  },
  {
   "cell_type": "markdown",
   "metadata": {},
   "source": [
    "## Solution 3"
   ]
  },
  {
   "cell_type": "markdown",
   "metadata": {},
   "source": [
    "We know that:\n",
    "\n",
    "$$E(x) = np = 6$$\n",
    "\n",
    "$$Var(x) = np(1-p) = 4.2$$\n",
    "\n",
    "Rearranging the formulas we see that $$(1-p) = \\frac{4.2}{np} = \\frac{4.2}{6} \\Rightarrow p = 1 - \\frac{4.2}{6} \\approx 0.3$$\n",
    "\n",
    "This then yields:\n",
    "\n",
    "$$0.3n = 6 \\Rightarrow n = 20$$"
   ]
  },
  {
   "cell_type": "code",
   "execution_count": 85,
   "metadata": {},
   "outputs": [],
   "source": [
    "mu = 6\n",
    "var = 4.2\n",
    "p = 1 - var/mu\n",
    "n = mu / p"
   ]
  },
  {
   "cell_type": "markdown",
   "metadata": {},
   "source": [
    "Let's put that logic into a function that returns a binomial random variable (object)"
   ]
  },
  {
   "cell_type": "code",
   "execution_count": 86,
   "metadata": {},
   "outputs": [],
   "source": [
    "def bdist_from_mv(mu,var):\n",
    "    p = 1 - var/mu\n",
    "    n = mu/p\n",
    "    return stats.binom(n,p)"
   ]
  },
  {
   "cell_type": "code",
   "execution_count": 87,
   "metadata": {},
   "outputs": [
    {
     "data": {
      "text/plain": [
       "0.6080098122009242"
      ]
     },
     "execution_count": 87,
     "metadata": {},
     "output_type": "execute_result"
    }
   ],
   "source": [
    "bdist = bdist_from_mv(6,4.2)\n",
    "bdist.cdf(6)"
   ]
  },
  {
   "cell_type": "markdown",
   "metadata": {},
   "source": [
    "# Exercise 4"
   ]
  },
  {
   "cell_type": "markdown",
   "metadata": {},
   "source": [
    "You play a game with your friend. The game works as follows:\n",
    "\n",
    "- You filp a coin. Head = you win, Tail = your friend wins  \n",
    "    *(assume that it is a fair coin with $50\\%$ probability of head or tail)*\n",
    "\n",
    "- The person that wins 4 flips wins the overall game\n",
    "\n",
    "Questions:\n",
    "\n",
    "- what is the probability that the game lasts 4 games\n",
    "\n",
    "- what is the probability that the game lasts 5 games\n",
    "\n",
    "- what is the probability that the game lasts 7 games\n",
    "\n"
   ]
  },
  {
   "cell_type": "markdown",
   "metadata": {},
   "source": [
    "## Solution 4"
   ]
  },
  {
   "cell_type": "markdown",
   "metadata": {},
   "source": [
    "Probability of $4$ games:\n",
    "\n",
    "This can only happen if either you or your friend win 4 games out of four."
   ]
  },
  {
   "cell_type": "code",
   "execution_count": 88,
   "metadata": {},
   "outputs": [
    {
     "data": {
      "text/plain": [
       "0.125"
      ]
     },
     "execution_count": 88,
     "metadata": {},
     "output_type": "execute_result"
    }
   ],
   "source": [
    "bdist = stats.binom(4,0.5)\n",
    "prob_you_win = bdist.pmf(4)\n",
    "prob_friend_win = bdist.pmf(4)\n",
    "prob_you_win + prob_friend_win"
   ]
  },
  {
   "cell_type": "markdown",
   "metadata": {},
   "source": [
    "Probability of 5 games:\n",
    "\n",
    "This can happen if you (or your friend) won \n",
    "\n",
    "- three out of the first four games and then\n",
    "- wins the last game"
   ]
  },
  {
   "cell_type": "code",
   "execution_count": 89,
   "metadata": {},
   "outputs": [
    {
     "data": {
      "text/plain": [
       "0.25000000000000006"
      ]
     },
     "execution_count": 89,
     "metadata": {},
     "output_type": "execute_result"
    }
   ],
   "source": [
    "prob_you_win = stats.binom.pmf(3,4,0.5) * 0.5\n",
    "prob_you_win * 2"
   ]
  },
  {
   "cell_type": "markdown",
   "metadata": {},
   "source": [
    "Probability of 7 games: this can only happen if you (or your friend) won\n",
    "\n",
    "- three out of 6 games and then\n",
    "- wins the last game"
   ]
  },
  {
   "cell_type": "code",
   "execution_count": 90,
   "metadata": {},
   "outputs": [
    {
     "data": {
      "text/plain": [
       "0.3125000000000002"
      ]
     },
     "execution_count": 90,
     "metadata": {},
     "output_type": "execute_result"
    }
   ],
   "source": [
    "prob_you_win = stats.binom.pmf(3,6,0.5) * 0.5\n",
    "prob_you_win * 2"
   ]
  },
  {
   "cell_type": "markdown",
   "metadata": {},
   "source": [
    "# Exercise 5"
   ]
  },
  {
   "cell_type": "markdown",
   "metadata": {},
   "source": [
    "The Value at Risk (VaR) is a measure that is used in (financial) risk modelling to quantify the level of financial risk. It is very commonly used in commercial and investment banks to quantify the maximum loss potential over a given period. \n",
    "\n",
    "Example: a **daily 95%-VaR of 50 Million TYR** means that only in 5% of the days the losses will exceed 50 Million TYR.\n",
    "\n",
    "**Question:** what is the daily 99%-VaR or holding a position of 100 Million TYR in the German Dax? I.e. determine the loss threshold that only occurs in 1% of the days.\n",
    "\n",
    "(Note: assume that daily returns are normally distributed)"
   ]
  },
  {
   "cell_type": "code",
   "execution_count": 91,
   "metadata": {},
   "outputs": [],
   "source": [
    "prices = Datasets.dax_daily()"
   ]
  },
  {
   "cell_type": "markdown",
   "metadata": {},
   "source": [
    "## Solution 5"
   ]
  },
  {
   "cell_type": "code",
   "execution_count": 92,
   "metadata": {},
   "outputs": [],
   "source": [
    "# Calculate daily returns\n",
    "ret = prices[1:] / prices[:-1] - 1"
   ]
  },
  {
   "cell_type": "code",
   "execution_count": 93,
   "metadata": {},
   "outputs": [
    {
     "data": {
      "text/plain": [
       "(0.00040900045065627816, 0.014103491916929063)"
      ]
     },
     "execution_count": 93,
     "metadata": {},
     "output_type": "execute_result"
    }
   ],
   "source": [
    "# Calculate mean and standard deviation\n",
    "mu = np.mean(ret)\n",
    "sig = np.std(ret)\n",
    "mu, sig"
   ]
  },
  {
   "cell_type": "code",
   "execution_count": 94,
   "metadata": {},
   "outputs": [],
   "source": [
    "# Create normal distribution with mu and sigma from daily dax returns\n",
    "dax = stats.norm(mu,sig)"
   ]
  },
  {
   "cell_type": "code",
   "execution_count": 95,
   "metadata": {},
   "outputs": [],
   "source": [
    "# Determine 1% lowest returns via CDF (trial and error)"
   ]
  },
  {
   "cell_type": "code",
   "execution_count": 96,
   "metadata": {},
   "outputs": [
    {
     "data": {
      "text/plain": [
       "0.010001186802647976"
      ]
     },
     "execution_count": 96,
     "metadata": {},
     "output_type": "execute_result"
    }
   ],
   "source": [
    "dax.cdf(-0.0324)"
   ]
  },
  {
   "cell_type": "code",
   "execution_count": 97,
   "metadata": {},
   "outputs": [
    {
     "data": {
      "text/plain": [
       "-0.03240062798684383"
      ]
     },
     "execution_count": 97,
     "metadata": {},
     "output_type": "execute_result"
    }
   ],
   "source": [
    "# Determine 1% lowest returns via PPF function from scipy (inverse of CDF, i.e. gives you a value given the probability)\n",
    "dax.ppf(0.01)"
   ]
  },
  {
   "cell_type": "code",
   "execution_count": 98,
   "metadata": {},
   "outputs": [
    {
     "data": {
      "text/plain": [
       "-3240062.798684383"
      ]
     },
     "execution_count": 98,
     "metadata": {},
     "output_type": "execute_result"
    }
   ],
   "source": [
    "cutoff = dax.ppf(0.01)\n",
    "cutoff*100_000_000"
   ]
  },
  {
   "cell_type": "markdown",
   "metadata": {},
   "source": [
    "With a probability of 99% the daily loss will not exceed 3.24 Million TYR."
   ]
  },
  {
   "cell_type": "markdown",
   "metadata": {},
   "source": [
    "**Note**: the calculations are based on the assumption that stock returns are normally distributed. \n",
    "\n",
    "We can see that this is only approximately correct. "
   ]
  },
  {
   "cell_type": "code",
   "execution_count": 99,
   "metadata": {},
   "outputs": [
    {
     "data": {
      "image/png": "[encoded data removed]",
      "text/plain": [
       "<Figure size 648x504 with 1 Axes>"
      ]
     },
     "metadata": {
      "needs_background": "light"
     },
     "output_type": "display_data"
    }
   ],
   "source": [
    "fig, ax = plt.subplots(figsize=(9,7))\n",
    "ax.hist(ret,density=True, bins=100, alpha=0.5, label=\"Dax\");\n",
    "ax.plot(x,dax_dist.pdf(x), label=\"Normal\");\n",
    "ax.legend()\n",
    "sns.despine()"
   ]
  }
 ],
 "metadata": {
  "kernelspec": {
   "display_name": "Python 3",
   "language": "python",
   "name": "python3"
  },
  "language_info": {
   "codemirror_mode": {
    "name": "ipython",
    "version": 3
   },
   "file_extension": ".py",
   "mimetype": "text/x-python",
   "name": "python",
   "nbconvert_exporter": "python",
   "pygments_lexer": "ipython3",
   "version": "3.8.3"
  }
 },
 "nbformat": 4,
 "nbformat_minor": 4
}
