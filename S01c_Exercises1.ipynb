{
 "cells": [
  {
   "cell_type": "code",
   "execution_count": 2,
   "metadata": {},
   "outputs": [],
   "source": [
    "# Execute before using this notebook if using google colab\n",
    "\n",
    "kernel = str(get_ipython())\n",
    "\n",
    "if 'google.colab' in kernel:    \n",
    "    !wget https://raw.githubusercontent.com/fredzett/rmqa/master/utils.py -P local_modules -nc \n",
    "    !npx degit fredzett/rmqa/data data\n",
    "    import sys\n",
    "    sys.path.append('local_modules')"
   ]
  },
  {
   "cell_type": "markdown",
   "metadata": {},
   "source": [
    "# Exercise"
   ]
  },
  {
   "cell_type": "markdown",
   "metadata": {},
   "source": [
    "Create two variables `a` and `b`, assign them any value and ensure that both variables are shown (printed) as output"
   ]
  },
  {
   "cell_type": "markdown",
   "metadata": {
    "slideshow": {
     "slide_type": "skip"
    }
   },
   "source": [
    "## Solution"
   ]
  },
  {
   "cell_type": "code",
   "execution_count": null,
   "metadata": {},
   "outputs": [],
   "source": []
  },
  {
   "cell_type": "markdown",
   "metadata": {},
   "source": [
    "# Exercise"
   ]
  },
  {
   "cell_type": "markdown",
   "metadata": {},
   "source": [
    "Write a function that converts **Celsius** into **Fahrenheit**. The function should take as input degrees in Celsius and return degrees in Fahrenheit. \n",
    "\n",
    "(Note: if you don't know the formula search for it.)"
   ]
  },
  {
   "cell_type": "markdown",
   "metadata": {},
   "source": [
    "## Solution"
   ]
  },
  {
   "cell_type": "code",
   "execution_count": 3,
   "metadata": {},
   "outputs": [],
   "source": [
    "celsius = 12"
   ]
  },
  {
   "cell_type": "markdown",
   "metadata": {},
   "source": [
    "# Exercise"
   ]
  },
  {
   "cell_type": "markdown",
   "metadata": {},
   "source": [
    "There are four friends:\n",
    "- Peter is 42 years old\n",
    "- Özlem is 27 years old\n",
    "- Horst is 65 years old\n",
    "- Jenny is 29 years old\n",
    "\n",
    "Calculate the average age of the group. \n",
    "\n",
    "Ensure that your function is flexible enough to handle larger or smaller groups as well.  "
   ]
  },
  {
   "cell_type": "markdown",
   "metadata": {},
   "source": [
    "## Solution"
   ]
  },
  {
   "cell_type": "code",
   "execution_count": null,
   "metadata": {},
   "outputs": [],
   "source": []
  },
  {
   "cell_type": "markdown",
   "metadata": {},
   "source": [
    "# Exercise"
   ]
  },
  {
   "cell_type": "markdown",
   "metadata": {},
   "source": [
    "Your are given the annual returns of the German Stock Index **DAX 30** (see below).\n",
    "\n",
    "|   2011  |  2012  |  2013  |  2014 |  2015 |  2016 |  2017  |\n",
    "|:-------:|:------:|:------:|:-----:|:-----:|:-----:|:------:|\n",
    "| -14,69% | 29,06% | 25,48% | 2,65% | 9,56% | 6,87% | 12,51% |\n",
    "\n",
    "\n",
    "Write a function that takes as input the above Dax returns and based on that input calucaltes the standard deviation of the annual returns. Your function should be flexible enough to handle lists of of length other than 6. \n",
    "\n",
    "> **Note**: the function for (sample) `standard deviation` is given by:\n",
    ">\n",
    "> $$s = \\sqrt{s^2}$$\n",
    ">\n",
    "> where *sample variance* $s^2$ is given by:\n",
    ">\n",
    "> $$s^2 = \\frac{\\sum (x_i - \\bar{x})^2}{n - 1}$$"
   ]
  },
  {
   "cell_type": "markdown",
   "metadata": {},
   "source": [
    "## Solution"
   ]
  },
  {
   "cell_type": "code",
   "execution_count": 4,
   "metadata": {},
   "outputs": [],
   "source": [
    "ret = [-0.1469, 0.2906, .2549, .0265, .0956, .0687, .1251]"
   ]
  },
  {
   "cell_type": "markdown",
   "metadata": {},
   "source": [
    "# Exercise"
   ]
  },
  {
   "cell_type": "markdown",
   "metadata": {},
   "source": [
    "Write a function takes as input:\n",
    "\n",
    "- list of numbers\n",
    "- list of factors\n",
    "\n",
    "The function should then return a list which multiplies each number with the respective factor. \n",
    "\n",
    "Example:\n",
    "\n",
    "```Python\n",
    "numbers = [1,2,3]\n",
    "factors = [6,7,8]\n",
    "result = [6,14,24]\n",
    "```"
   ]
  },
  {
   "cell_type": "markdown",
   "metadata": {},
   "source": [
    "## Solution"
   ]
  },
  {
   "cell_type": "code",
   "execution_count": null,
   "metadata": {},
   "outputs": [],
   "source": []
  }
 ],
 "metadata": {
  "kernelspec": {
   "display_name": "Python 3",
   "language": "python",
   "name": "python3"
  },
  "language_info": {
   "codemirror_mode": {
    "name": "ipython",
    "version": 3
   },
   "file_extension": ".py",
   "mimetype": "text/x-python",
   "name": "python",
   "nbconvert_exporter": "python",
   "pygments_lexer": "ipython3",
   "version": "3.8.3-final"
  },
  "toc-autonumbering": false
 },
 "nbformat": 4,
 "nbformat_minor": 4
}