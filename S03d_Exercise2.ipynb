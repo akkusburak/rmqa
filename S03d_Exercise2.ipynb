{
 "cells": [
  {
   "cell_type": "code",
   "execution_count": null,
   "metadata": {},
   "outputs": [],
   "source": [
    "# Execute before using this notebook if using google colab\n",
    "kernel = str(get_ipython())\n",
    "\n",
    "if 'google.colab' in kernel:    \n",
    "    !wget https://raw.githubusercontent.com/fredzett/rmqa/master/utils.py -P local_modules -nc \n",
    "    !npx degit fredzett/rmqa/data data\n",
    "    import sys\n",
    "    sys.path.append('local_modules')"
   ]
  },
  {
   "cell_type": "code",
   "execution_count": null,
   "metadata": {},
   "outputs": [],
   "source": [
    "import numpy as np \n",
    "import scipy.stats as stats\n",
    "\n",
    "from utils import Datasets, plot_bar, plot_line"
   ]
  },
  {
   "cell_type": "markdown",
   "metadata": {},
   "source": [
    "# Exercise 1"
   ]
  },
  {
   "cell_type": "markdown",
   "metadata": {},
   "source": [
    "A (regular) dice is thrown 10 times. Answer the following questions:\n",
    "\n",
    "- what is the probability that a six is shown exactly 5 times?\n",
    "\n",
    "- what is the probability that a six is shown less than 3 times?\n",
    "\n",
    "- what is the expected number of sixes shown?\n",
    "\n",
    "- what is the variance of number of sixes (if you were to repeat the experiment multiple times)?\n",
    "\n",
    "Note: a regular dice has 6 eyes (1, 2, 3, 4, 5, 6) with equal probability of being shown"
   ]
  },
  {
   "cell_type": "markdown",
   "metadata": {},
   "source": [
    "## Solution 1"
   ]
  },
  {
   "cell_type": "markdown",
   "metadata": {},
   "source": [
    "# Exercise 2"
   ]
  },
  {
   "cell_type": "markdown",
   "metadata": {},
   "source": [
    "A class has to take a multiple choice test with $20$ questions. Each question has $5$ possible answers of which only $1$ is correct. You need to answer at least $10$ questions correctly to pass the exam. \n",
    "\n",
    "- how many correct answers would you expect to receive by purely guessing?\n",
    "\n",
    "- if $1.000$ students take the test, all of which will just guess the answers. How many of them would you expect to pass?"
   ]
  },
  {
   "cell_type": "markdown",
   "metadata": {},
   "source": [
    "## Solution 2"
   ]
  },
  {
   "cell_type": "markdown",
   "metadata": {},
   "source": [
    "# Exercise 3"
   ]
  },
  {
   "cell_type": "markdown",
   "metadata": {},
   "source": [
    "A random variable $X$ is binomially distributed with a mean of $6$ and a variance of $4.2$. \n",
    "\n",
    "- write a function that calculates $n$ and $p$ from mean and variance\n",
    "\n",
    "- what is $P(X \\leq 6)$?"
   ]
  },
  {
   "cell_type": "markdown",
   "metadata": {},
   "source": [
    "## Solution 3"
   ]
  },
  {
   "cell_type": "markdown",
   "metadata": {},
   "source": [
    "# Exercise 4"
   ]
  },
  {
   "cell_type": "markdown",
   "metadata": {},
   "source": [
    "You play a game with your friend. The game works as follows:\n",
    "\n",
    "- You filp a coin. Head = you win, Tail = your friend wins  \n",
    "    *(assume that it is a fair coin with $50\\%$ probability of head or tail)*\n",
    "\n",
    "- The person that wins 4 flips wins the overall game\n",
    "\n",
    "Questions:\n",
    "\n",
    "- what is the probability that the game lasts 4 games\n",
    "\n",
    "- what is the probability that the game lasts 5 games\n",
    "\n",
    "- what is the probability that the game lasts 7 games\n",
    "\n"
   ]
  },
  {
   "cell_type": "markdown",
   "metadata": {},
   "source": [
    "## Solution 4"
   ]
  },
  {
   "cell_type": "markdown",
   "metadata": {},
   "source": [
    "# Exercise 5"
   ]
  },
  {
   "cell_type": "markdown",
   "metadata": {},
   "source": [
    "The Value at Risk (VaR) is a measure that is used in (financial) risk modelling to quantify the level of financial risk. It is very commonly used in commercial and investment banks to quantify the maximum loss potential over a given period. \n",
    "\n",
    "Example: a **daily 95%-VaR of 50 Million TYR** means that only in 5% of the days the losses will exceed 50 Million TYR.\n",
    "\n",
    "**Question:** what is the daily 99%-VaR or holding a position of 100 Million TYR in the German Dax? I.e. determine the loss threshold that only occurs in 1% of the days.\n",
    "\n",
    "(Note: assume that daily returns are normally distributed)"
   ]
  },
  {
   "cell_type": "code",
   "execution_count": null,
   "metadata": {},
   "outputs": [],
   "source": [
    "prices = Datasets.dax_daily()"
   ]
  },
  {
   "cell_type": "markdown",
   "metadata": {},
   "source": [
    "## Solution 5"
   ]
  }
 ],
 "metadata": {
  "kernelspec": {
   "display_name": "Python 3",
   "language": "python",
   "name": "python3"
  },
  "language_info": {
   "codemirror_mode": {
    "name": "ipython",
    "version": 3
   },
   "file_extension": ".py",
   "mimetype": "text/x-python",
   "name": "python",
   "nbconvert_exporter": "python",
   "pygments_lexer": "ipython3",
   "version": "3.8.3"
  }
 },
 "nbformat": 4,
 "nbformat_minor": 4
}