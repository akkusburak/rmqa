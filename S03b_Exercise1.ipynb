{
 "cells": [
  {
   "cell_type": "code",
   "execution_count": 122,
   "metadata": {},
   "outputs": [],
   "source": [
    "# Execute before using this notebook if using google colab\n",
    "\n",
    "kernel = str(get_ipython())\n",
    "\n",
    "if 'google.colab' in kernel:    \n",
    "    !wget https://raw.githubusercontent.com/fredzett/rmqa/master/utils.py -P local_modules -nc \n",
    "    !npx degit fredzett/rmqa/data data\n",
    "    import sys\n",
    "    sys.path.append('local_modules')"
   ]
  },
  {
   "cell_type": "code",
   "execution_count": 294,
   "metadata": {},
   "outputs": [],
   "source": [
    "import numpy as np\n",
    "from utils import plot_line, plot_bar, plot_hist"
   ]
  },
  {
   "cell_type": "markdown",
   "metadata": {},
   "source": [
    "# Exercise 1"
   ]
  },
  {
   "cell_type": "markdown",
   "metadata": {},
   "source": [
    "What is the probability when rolling three dices that the sum of eyes of those three eyes is $\\geq 15$?"
   ]
  },
  {
   "cell_type": "markdown",
   "metadata": {
    "slideshow": {
     "slide_type": "skip"
    }
   },
   "source": [
    "## Solution 1"
   ]
  },
  {
   "source": [
    "# Exercise 2"
   ],
   "cell_type": "markdown",
   "metadata": {}
  },
  {
   "source": [
    "Philip Founder has invested $200.000$ in his new business. Based on research he expects the following number of customers per period:\n",
    "\n",
    "- customers: 10, 40, 60, 100 \n",
    "- probability of arrival: 10%, 50%, 30%, 10%\n",
    "\n",
    "Example: with a probability of 50% he expects 40 customers a day \n",
    "\n",
    "On average his after cost cashflow is $120$ EUR per customer. \n",
    "\n",
    "Assume that the business will last for 50 periods. \n",
    "\n",
    "What is the probability of recovering his investment after:\n",
    "\n",
    "- 26 periods\n",
    "- 30 periods\n",
    "- 40 periods\n",
    "\n",
    "(Tip: use `utils.plot_bar` or `utils.plot_hist`)\n"
   ],
   "cell_type": "markdown",
   "metadata": {}
  },
  {
   "source": [
    "## Solution 2"
   ],
   "cell_type": "markdown",
   "metadata": {}
  },
  {
   "source": [
    "# Exercise 3"
   ],
   "cell_type": "markdown",
   "metadata": {}
  },
  {
   "source": [
    "You play a game with your friend. The game works as follows:\n",
    "\n",
    "- You filp a coin. Head = you win, Tail = your friend wins  \n",
    "    *(assume that it is a fair coin with $50\\%$ probability of head or tail)*\n",
    "\n",
    "- The person that wins 4 flips wins the overall game\n",
    "\n",
    "Questions:\n",
    "\n",
    "- what is the probability that the game lasts 4 games\n",
    "\n",
    "- what is the probability that the game lasts 5 games\n",
    "\n",
    "- what is the probability that the game lasts 7 games"
   ],
   "cell_type": "markdown",
   "metadata": {}
  },
  {
   "source": [
    "## Solution 3"
   ],
   "cell_type": "markdown",
   "metadata": {}
  },
  {
   "source": [],
   "cell_type": "markdown",
   "metadata": {}
  }
 ],
 "metadata": {
  "kernelspec": {
   "display_name": "Python 3",
   "language": "python",
   "name": "python3"
  },
  "language_info": {
   "codemirror_mode": {
    "name": "ipython",
    "version": 3
   },
   "file_extension": ".py",
   "mimetype": "text/x-python",
   "name": "python",
   "nbconvert_exporter": "python",
   "pygments_lexer": "ipython3",
   "version": "3.8.3-final"
  },
  "toc-autonumbering": false
 },
 "nbformat": 4,
 "nbformat_minor": 4
}