{
 "cells": [
  {
   "cell_type": "code",
   "execution_count": 1,
   "metadata": {},
   "outputs": [],
   "source": [
    "# Execute before using this notebook if using google colab\n",
    "\n",
    "kernel = str(get_ipython())\n",
    "\n",
    "if 'google.colab' in kernel:    \n",
    "    !wget https://raw.githubusercontent.com/fredzett/rmqa/master/utils.py -P local_modules -nc \n",
    "    !npx degit fredzett/rmqa/data data\n",
    "    import sys\n",
    "    sys.path.append('local_modules')"
   ]
  },
  {
   "cell_type": "code",
   "execution_count": 12,
   "metadata": {
    "tags": []
   },
   "outputs": [],
   "source": [
    "import numpy as np\n",
    "from utils import Datasets"
   ]
  },
  {
   "cell_type": "markdown",
   "metadata": {},
   "source": [
    "# Exercise 1 "
   ]
  },
  {
   "cell_type": "markdown",
   "metadata": {},
   "source": [
    "Show (with an example) that the median and the $50^{th}$ percentile are the same"
   ]
  },
  {
   "cell_type": "markdown",
   "metadata": {},
   "source": [
    "## Solution 1"
   ]
  },
  {
   "cell_type": "code",
   "execution_count": 13,
   "metadata": {},
   "outputs": [
    {
     "data": {
      "text/plain": [
       "True"
      ]
     },
     "execution_count": 13,
     "metadata": {},
     "output_type": "execute_result"
    }
   ],
   "source": [
    "numbers = [1022,23,23,21,31,5,5,7,8,9,0,0,3,12,325,46]\n",
    "np.median(numbers) == np.percentile(numbers,50)"
   ]
  },
  {
   "cell_type": "markdown",
   "metadata": {},
   "source": [
    "# Exercise 2\n",
    "\n",
    "The **HR Statistics Inc.** has gathered a sample of salary data. The data includes three groups`\n",
    "\n",
    "- `low`: salary from workers with work experience $<=5yrs$\n",
    "- `medium`: salary from workers with work experience $>5yrs$ and $<=10yrs$\n",
    "- `high`: salary from workers with work experience $>10yrs$\n",
    "\n",
    "For the consulting service the company wants to understand if and how salaries differe by work experience. \n",
    "\n",
    "Please help them and calculate for each group:\n",
    "\n",
    "- location parameter\n",
    "- variance parameter\n",
    "\n",
    "**Important**: try to avoid code repetition\n",
    "\n",
    "What are your conclusions?"
   ]
  },
  {
   "cell_type": "code",
   "execution_count": 14,
   "metadata": {},
   "outputs": [],
   "source": [
    "low, medium,  high = Datasets.salaries()"
   ]
  },
  {
   "cell_type": "markdown",
   "metadata": {},
   "source": [
    "\n",
    "## Solution 2"
   ]
  },
  {
   "cell_type": "markdown",
   "metadata": {},
   "source": [
    "There are various way how to do this. Here is one way..."
   ]
  },
  {
   "cell_type": "code",
   "execution_count": 15,
   "metadata": {},
   "outputs": [],
   "source": [
    "def make_summary(groups):\n",
    "    for i in range(len(groups)):\n",
    "        print()\n",
    "        print(\"Summary for Group\", i + 1)\n",
    "        print(\"---------------------\")\n",
    "        print(\"Mean:\", np.mean(groups[i]))\n",
    "        print(\"Median:\", np.median(groups[i]))\n",
    "        print(\"Stdev:\", np.std(groups[i]))\n",
    "        print(\"Quartiles:\", np.quantile(groups[i],[0.25,0.5,0.75]))"
   ]
  },
  {
   "cell_type": "code",
   "execution_count": 16,
   "metadata": {},
   "outputs": [
    {
     "name": "stdout",
     "output_type": "stream",
     "text": [
      "\n",
      "Summary for Group 1\n",
      "---------------------\n",
      "Mean: 40309.09\n",
      "Median: 41136.0\n",
      "Stdev: 10347.90371533771\n",
      "Quartiles: [32402.  41136.  47939.5]\n",
      "\n",
      "Summary for Group 2\n",
      "---------------------\n",
      "Mean: 60262.01\n",
      "Median: 59846.5\n",
      "Stdev: 18997.284195113254\n",
      "Quartiles: [45898.   59846.5  73902.25]\n",
      "\n",
      "Summary for Group 3\n",
      "---------------------\n",
      "Mean: 81353.41\n",
      "Median: 80339.5\n",
      "Stdev: 13146.482363046778\n",
      "Quartiles: [72708.25 80339.5  88513.75]\n"
     ]
    }
   ],
   "source": [
    "make_summary([low,medium,high])"
   ]
  },
  {
   "cell_type": "markdown",
   "metadata": {},
   "source": [
    "## Solutions 2 (outlook)"
   ]
  },
  {
   "cell_type": "markdown",
   "metadata": {},
   "source": [
    "Using other modules it is even easiere to achieve similar things"
   ]
  },
  {
   "cell_type": "code",
   "execution_count": 94,
   "metadata": {},
   "outputs": [],
   "source": [
    "import pandas as pd\n",
    "import seaborn as sns\n",
    "import matplotlib.pyplot as plt\n",
    "#plt.style.use(\"ggplot\")"
   ]
  },
  {
   "cell_type": "code",
   "execution_count": 95,
   "metadata": {},
   "outputs": [
    {
     "data": {
      "text/html": [
       "<div>\n",
       "<style scoped>\n",
       "    .dataframe tbody tr th:only-of-type {\n",
       "        vertical-align: middle;\n",
       "    }\n",
       "\n",
       "    .dataframe tbody tr th {\n",
       "        vertical-align: top;\n",
       "    }\n",
       "\n",
       "    .dataframe thead th {\n",
       "        text-align: right;\n",
       "    }\n",
       "</style>\n",
       "<table border=\"1\" class=\"dataframe\">\n",
       "  <thead>\n",
       "    <tr style=\"text-align: right;\">\n",
       "      <th></th>\n",
       "      <th>low</th>\n",
       "      <th>high</th>\n",
       "      <th>medium</th>\n",
       "    </tr>\n",
       "  </thead>\n",
       "  <tbody>\n",
       "    <tr>\n",
       "      <th>count</th>\n",
       "      <td>100.000000</td>\n",
       "      <td>100.000000</td>\n",
       "      <td>100.000000</td>\n",
       "    </tr>\n",
       "    <tr>\n",
       "      <th>mean</th>\n",
       "      <td>40309.090000</td>\n",
       "      <td>81353.410000</td>\n",
       "      <td>60262.010000</td>\n",
       "    </tr>\n",
       "    <tr>\n",
       "      <th>std</th>\n",
       "      <td>10400.034543</td>\n",
       "      <td>13212.711913</td>\n",
       "      <td>19092.989003</td>\n",
       "    </tr>\n",
       "    <tr>\n",
       "      <th>min</th>\n",
       "      <td>18140.000000</td>\n",
       "      <td>47800.000000</td>\n",
       "      <td>25384.000000</td>\n",
       "    </tr>\n",
       "    <tr>\n",
       "      <th>25%</th>\n",
       "      <td>32402.000000</td>\n",
       "      <td>72708.250000</td>\n",
       "      <td>45898.000000</td>\n",
       "    </tr>\n",
       "    <tr>\n",
       "      <th>50%</th>\n",
       "      <td>41136.000000</td>\n",
       "      <td>80339.500000</td>\n",
       "      <td>59846.500000</td>\n",
       "    </tr>\n",
       "    <tr>\n",
       "      <th>75%</th>\n",
       "      <td>47939.500000</td>\n",
       "      <td>88513.750000</td>\n",
       "      <td>73902.250000</td>\n",
       "    </tr>\n",
       "    <tr>\n",
       "      <th>max</th>\n",
       "      <td>61488.000000</td>\n",
       "      <td>121011.000000</td>\n",
       "      <td>119261.000000</td>\n",
       "    </tr>\n",
       "  </tbody>\n",
       "</table>\n",
       "</div>"
      ],
      "text/plain": [
       "                low           high         medium\n",
       "count    100.000000     100.000000     100.000000\n",
       "mean   40309.090000   81353.410000   60262.010000\n",
       "std    10400.034543   13212.711913   19092.989003\n",
       "min    18140.000000   47800.000000   25384.000000\n",
       "25%    32402.000000   72708.250000   45898.000000\n",
       "50%    41136.000000   80339.500000   59846.500000\n",
       "75%    47939.500000   88513.750000   73902.250000\n",
       "max    61488.000000  121011.000000  119261.000000"
      ]
     },
     "execution_count": 95,
     "metadata": {},
     "output_type": "execute_result"
    }
   ],
   "source": [
    "data = {\"low\":low, \"high\":high, \"medium\":medium}\n",
    "df = pd.DataFrame(data)\n",
    "df.describe()"
   ]
  },
  {
   "cell_type": "code",
   "execution_count": 96,
   "metadata": {},
   "outputs": [
    {
     "data": {
      "image/png": "[encoded data removed]",
      "text/plain": [
       "<Figure size 576x396 with 2 Axes>"
      ]
     },
     "metadata": {},
     "output_type": "display_data"
    }
   ],
   "source": [
    "df[[\"low\",\"high\"]].hist();\n"
   ]
  },
  {
   "cell_type": "code",
   "execution_count": 97,
   "metadata": {},
   "outputs": [],
   "source": [
    "def make_nice_plot(df):\n",
    "\n",
    "    fig, axes = plt.subplots(1,3, figsize=(12,9), sharex=True)\n",
    "    axes = axes.flatten()\n",
    "    for i,col_name in enumerate(df.columns):\n",
    "\n",
    "        sns.distplot(df[col_name], kde=False, ax = axes[i])\n",
    "\n",
    "        if i == 0:\n",
    "            axes[i].set_ylabel(\"Frequency\")\n",
    "            axes[i].set_xlabel(\"Salary\")\n",
    "\n",
    "        if i >0 :\n",
    "            #sns.despine()\n",
    "            axes[i].get_yaxis().set_visible(False)\n",
    "            axes[i].spines[\"left\"].set_visible(False)\n",
    "        for direction in [\"top\",\"right\"]:\n",
    "            axes[i].spines[direction].set_visible(False)\n",
    "\n",
    "    plt.suptitle(\"Salary distribution by experience level\");"
   ]
  },
  {
   "cell_type": "code",
   "execution_count": 98,
   "metadata": {},
   "outputs": [
    {
     "data": {
      "image/png": "[encoded data removed]",
      "text/plain": [
       "<Figure size 864x648 with 3 Axes>"
      ]
     },
     "metadata": {},
     "output_type": "display_data"
    }
   ],
   "source": [
    "make_nice_plot(df)"
   ]
  },
  {
   "cell_type": "code",
   "execution_count": null,
   "metadata": {},
   "outputs": [],
   "source": []
  }
 ],
 "metadata": {
  "kernelspec": {
   "display_name": "Python 3",
   "language": "python",
   "name": "python3"
  },
  "language_info": {
   "codemirror_mode": {
    "name": "ipython",
    "version": 3
   },
   "file_extension": ".py",
   "mimetype": "text/x-python",
   "name": "python",
   "nbconvert_exporter": "python",
   "pygments_lexer": "ipython3",
   "version": "3.8.3"
  },
  "toc-autonumbering": true
 },
 "nbformat": 4,
 "nbformat_minor": 4
}
