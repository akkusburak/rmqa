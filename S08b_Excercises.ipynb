{
 "cells": [
  {
   "cell_type": "markdown",
   "metadata": {},
   "source": [
    "# Exercise 2"
   ]
  },
  {
   "cell_type": "code",
   "execution_count": null,
   "metadata": {},
   "outputs": [],
   "source": [
    "# Execute before using this notebook if using google colab\n",
    "kernel = str(get_ipython())\n",
    "if 'google.colab' in kernel:    \n",
    "    !wget https://raw.githubusercontent.com/fredzett/rmqa/master/utils.py -P local_modules -nc \n",
    "    !npx degit fredzett/rmqa/data data\n",
    "    import sys\n",
    "    sys.path.append('local_modules')"
   ]
  },
  {
   "cell_type": "code",
   "execution_count": 50,
   "metadata": {},
   "outputs": [],
   "source": [
    "import numpy as np\n",
    "import pandas as pd\n",
    "from sklearn.cluster import KMeans\n",
    "import matplotlib.pyplot as plt\n",
    "from utils import plot_scatter"
   ]
  },
  {
   "cell_type": "markdown",
   "metadata": {},
   "source": [
    "# Exercise 1"
   ]
  },
  {
   "cell_type": "markdown",
   "metadata": {},
   "source": [
    "Implement the formula for the __Euclidian distance__ in python. \n",
    "\n",
    "\n",
    "$$d(p,q) = \\sqrt{\\sum_{n=1}^N (p_i - q_i)^2}$$\n",
    "\n",
    "Use the following assumptions:\n",
    "\n",
    "- solution should be a function that takes two parameters $p$ and $q$\n",
    "\n",
    "- the parameters should be of the type `np.array`\n",
    "\n",
    "Calculate the euclidean distance for the following points:\n",
    "\n",
    "- $p = (2, 3, 1)$ and $q = (4, 1, 2)$\n",
    "\n",
    "- $p = (2, 3, 1)$ and $q = (2, 3, 1)$\n",
    "\n",
    "- $p = (1, 2, 3)$ and $q = (-1, -2, -3)$"
   ]
  },
  {
   "source": [
    "# Excercise 2"
   ],
   "cell_type": "markdown",
   "metadata": {}
  },
  {
   "cell_type": "markdown",
   "metadata": {},
   "source": [
    "Your are given the below data set containing $2$ explanatory variables and the result of a segmentation exercise conducted by a marketing company. \n",
    "\n",
    "You are asked to conduct a clustering analysis using the __K-Means algorithm__ to analyse if the segmentation can be validated by thorough data analysis. \n",
    "\n",
    "Answer the following questions:\n",
    "\n",
    "- what $K$ did you choose? Why?\n",
    "\n",
    "- how many iterations did the algorithm need? (note: use `n_iter_` to find out)\n",
    "\n",
    "- how do the segmentation result and the clustering results compare?"
   ]
  },
  {
   "cell_type": "code",
   "execution_count": 46,
   "metadata": {},
   "outputs": [
    {
     "data": {
      "text/html": [
       "<div>\n",
       "<style scoped>\n",
       "    .dataframe tbody tr th:only-of-type {\n",
       "        vertical-align: middle;\n",
       "    }\n",
       "\n",
       "    .dataframe tbody tr th {\n",
       "        vertical-align: top;\n",
       "    }\n",
       "\n",
       "    .dataframe thead th {\n",
       "        text-align: right;\n",
       "    }\n",
       "</style>\n",
       "<table border=\"1\" class=\"dataframe\">\n",
       "  <thead>\n",
       "    <tr style=\"text-align: right;\">\n",
       "      <th></th>\n",
       "      <th>X1</th>\n",
       "      <th>X2</th>\n",
       "      <th>Segmentation</th>\n",
       "    </tr>\n",
       "  </thead>\n",
       "  <tbody>\n",
       "    <tr>\n",
       "      <th>0</th>\n",
       "      <td>8.032108</td>\n",
       "      <td>-4.157312</td>\n",
       "      <td>4</td>\n",
       "    </tr>\n",
       "    <tr>\n",
       "      <th>1</th>\n",
       "      <td>-8.769474</td>\n",
       "      <td>7.120189</td>\n",
       "      <td>3</td>\n",
       "    </tr>\n",
       "    <tr>\n",
       "      <th>2</th>\n",
       "      <td>9.906003</td>\n",
       "      <td>9.891514</td>\n",
       "      <td>0</td>\n",
       "    </tr>\n",
       "    <tr>\n",
       "      <th>3</th>\n",
       "      <td>-3.237460</td>\n",
       "      <td>9.197322</td>\n",
       "      <td>1</td>\n",
       "    </tr>\n",
       "    <tr>\n",
       "      <th>4</th>\n",
       "      <td>-9.101472</td>\n",
       "      <td>6.525046</td>\n",
       "      <td>3</td>\n",
       "    </tr>\n",
       "  </tbody>\n",
       "</table>\n",
       "</div>"
      ],
      "text/plain": [
       "         X1        X2  Segmentation\n",
       "0  8.032108 -4.157312             4\n",
       "1 -8.769474  7.120189             3\n",
       "2  9.906003  9.891514             0\n",
       "3 -3.237460  9.197322             1\n",
       "4 -9.101472  6.525046             3"
      ]
     },
     "execution_count": 46,
     "metadata": {},
     "output_type": "execute_result"
    }
   ],
   "source": [
    "df = pd.read_csv(\"./data/cluster2.csv\")\n",
    "df.head()"
   ]
  },
  {
   "cell_type": "markdown",
   "metadata": {},
   "source": [
    "### Solution Exercise 2"
   ]
  }
 ],
 "metadata": {
  "kernelspec": {
   "display_name": "mlbasic",
   "language": "python",
   "name": "mlbasic"
  },
  "language_info": {
   "codemirror_mode": {
    "name": "ipython",
    "version": 3
   },
   "file_extension": ".py",
   "mimetype": "text/x-python",
   "name": "python",
   "nbconvert_exporter": "python",
   "pygments_lexer": "ipython3",
   "version": "3.8.5"
  }
 },
 "nbformat": 4,
 "nbformat_minor": 4
}