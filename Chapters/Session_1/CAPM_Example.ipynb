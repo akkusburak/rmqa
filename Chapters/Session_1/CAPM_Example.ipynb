{
 "cells": [
  {
   "cell_type": "markdown",
   "metadata": {},
   "source": [
    "# Capital asset pricing model"
   ]
  },
  {
   "cell_type": "markdown",
   "metadata": {},
   "source": [
    "$$E(r) = r_f + \\beta  \\big(E(r_m) - r_f\\big)$$"
   ]
  },
  {
   "cell_type": "markdown",
   "metadata": {},
   "source": [
    "give example of \"research process\"\n",
    "\n",
    "- build hypothesis\n",
    "- get data\n",
    "- use data to test hypothesis\n",
    "- visualize results \n",
    "- etc.\n",
    "\n",
    "Data Analysis = get some data, put it together, process it, analyze it, and then deliver an answer.\n",
    "\n",
    "- ask a question (or explore)\n",
    "- load excel data (dax, some stock)\n",
    "- prepare data (calculate returns, hstack data\n",
    "- analyse data\n",
    "- provide answer to question\n",
    "    - numeric (volatility of beta)\n",
    "    - graphical (plot of beta)\n",
    "\n",
    "Example: \n",
    "\n",
    "- hypothesis: beta is constant over \n",
    "- ..."
   ]
  },
  {
   "cell_type": "code",
   "execution_count": 3,
   "metadata": {},
   "outputs": [],
   "source": [
    "import numpy as np\n",
    "import matplotlib.pyplot as plt"
   ]
  },
  {
   "cell_type": "code",
   "execution_count": 21,
   "metadata": {},
   "outputs": [],
   "source": [
    "dax = np.random.normal(size=1000)/10\n",
    "stock = 5 * dax #np.random.normal(size=1000)/10\n"
   ]
  },
  {
   "cell_type": "code",
   "execution_count": 22,
   "metadata": {},
   "outputs": [
    {
     "data": {
      "text/plain": [
       "array([[0.0100282 , 0.05014102],\n",
       "       [0.05014102, 0.25070509]])"
      ]
     },
     "execution_count": 22,
     "metadata": {},
     "output_type": "execute_result"
    }
   ],
   "source": [
    "np.cov(dax,stock)"
   ]
  },
  {
   "cell_type": "code",
   "execution_count": 23,
   "metadata": {},
   "outputs": [
    {
     "data": {
      "text/plain": [
       "5.005005005005004"
      ]
     },
     "execution_count": 23,
     "metadata": {},
     "output_type": "execute_result"
    }
   ],
   "source": [
    "np.cov(dax,stock)[0][1] / np.var(dax)"
   ]
  }
 ],
 "metadata": {
  "kernelspec": {
   "display_name": "Python 3",
   "language": "python",
   "name": "python3"
  },
  "language_info": {
   "codemirror_mode": {
    "name": "ipython",
    "version": 3
   },
   "file_extension": ".py",
   "mimetype": "text/x-python",
   "name": "python",
   "nbconvert_exporter": "python",
   "pygments_lexer": "ipython3",
   "version": "3.8.3"
  }
 },
 "nbformat": 4,
 "nbformat_minor": 4
}
