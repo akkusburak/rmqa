{
 "cells": [
  {
   "cell_type": "markdown",
   "metadata": {},
   "source": [
    "# Learning goals\n"
   ]
  },
  {
   "cell_type": "markdown",
   "metadata": {},
   "source": [
    "This notebook is a refresher on basic **descriptive statistics**. It is assumed that this material has been covered in an undergraduate statistics course before. We will use our existing knowledge and practically apply it in Python. \n",
    "\n",
    "To this end, the main learning goals of this Chapter are:\n",
    "\n",
    "**A/ Provide you with a quick refresher on**\n",
    "\n",
    "- measures of location: mean, median, percentiles, quartiles\n",
    "- measures of variability: range, variance, standard deviation\n",
    "- measures of association between two variables: covariance and correlation\n",
    "\n",
    "**B/ Practice coding in Python**\n",
    "\n",
    "- we will implement most concepts from scratch\n",
    "- we will learn that most concepts applied in this course have already been programmed in python and packaged into modules\n",
    "- we will start using some relevant modules\n"
   ]
  },
  {
   "cell_type": "markdown",
   "metadata": {},
   "source": [
    "# Measures of location"
   ]
  },
  {
   "cell_type": "markdown",
   "metadata": {},
   "source": [
    "A location parameter of a (probability) distribution is a scalar parameter, which determines the \"location\" or shift of the distribution. \n",
    "\n",
    "We will be using the following monthly sales data from **Statistics Inc.**:\n",
    "\n",
    "| Month | Sales |\n",
    "|:-----:|:-----:|\n",
    "|   1   |  2020 |\n",
    "|   2   |  2075 |\n",
    "|   3   |  2125 |\n",
    "|   4   |  2040 |\n",
    "|   5   |  1980 |\n",
    "|   6   |  1955 |\n",
    "|   7   |  2050 |\n",
    "|   8   |  2165 |\n",
    "|   9   |  2070 |\n",
    "|   10  |  2260 |\n",
    "|   11  |  2060 |\n",
    "|   12  |  2040 |"
   ]
  },
  {
   "cell_type": "code",
   "execution_count": null,
   "metadata": {},
   "outputs": [],
   "source": [
    "def load_sales():\n",
    "    return [2020,2075, 2125, 2040, 1980, 1955, 2050, 2165, 2070, 2260, 2060, 2040]"
   ]
  },
  {
   "cell_type": "code",
   "execution_count": null,
   "metadata": {},
   "outputs": [],
   "source": [
    "sales = load_sales()"
   ]
  },
  {
   "cell_type": "markdown",
   "metadata": {
    "toc-hr-collapsed": true,
    "toc-nb-collapsed": true
   },
   "source": [
    "## Mean"
   ]
  },
  {
   "cell_type": "markdown",
   "metadata": {
    "toc-hr-collapsed": true,
    "toc-nb-collapsed": true
   },
   "source": [
    "### Definition"
   ]
  },
  {
   "cell_type": "markdown",
   "metadata": {},
   "source": [
    "Likely the most important and most known measure of location is the `mean`, also called average value for a given variable.\n",
    "\n",
    "Two different means depending on the data:\n",
    "\n",
    "1. if data from a sample: mean is denoted by $\\bar{x}$\n",
    "\n",
    "2. if data from a population: mean is denoted by $\\mu$\n",
    "\n",
    "The value of variable $X$ for the $i^{th}$ observation is denoted by $x_i$."
   ]
  },
  {
   "cell_type": "markdown",
   "metadata": {},
   "source": [
    "**Sample mean** for a sample with $n$ observations:\n",
    "\n",
    "$$\\bar{x} = \\frac{\\sum{x_i}}{n}$$"
   ]
  },
  {
   "cell_type": "markdown",
   "metadata": {},
   "source": [
    "**Population mean** is the same (except for different notation):\n",
    "\n",
    "$$\\mu = \\frac{\\sum{x_i}}{N}$$"
   ]
  },
  {
   "cell_type": "markdown",
   "metadata": {},
   "source": [
    "> **Note** The result for sample and population mean is identical. We use different notation only to indicate whether mean is from population or sample. "
   ]
  },
  {
   "cell_type": "markdown",
   "metadata": {
    "toc-hr-collapsed": true,
    "toc-nb-collapsed": true
   },
   "source": [
    "### Implementation "
   ]
  },
  {
   "cell_type": "markdown",
   "metadata": {},
   "source": [
    "The mean can easily be calculated using the below python code"
   ]
  },
  {
   "cell_type": "code",
   "execution_count": null,
   "metadata": {},
   "outputs": [],
   "source": [
    "x_bar = sum(sales)/len(sales)\n",
    "x_bar"
   ]
  },
  {
   "cell_type": "markdown",
   "metadata": {},
   "source": [
    "If we intend to apply the calculation of a mean on various variables, it is handy to put the concept into a function"
   ]
  },
  {
   "cell_type": "code",
   "execution_count": null,
   "metadata": {},
   "outputs": [],
   "source": [
    "def mean(lst):\n",
    "    return sum(lst)/len(lst)"
   ]
  },
  {
   "cell_type": "code",
   "execution_count": null,
   "metadata": {},
   "outputs": [],
   "source": [
    "mean(sales)"
   ]
  },
  {
   "cell_type": "markdown",
   "metadata": {},
   "source": [
    "## Median"
   ]
  },
  {
   "cell_type": "markdown",
   "metadata": {
    "toc-hr-collapsed": true,
    "toc-nb-collapsed": true
   },
   "source": [
    "### Definition"
   ]
  },
  {
   "cell_type": "markdown",
   "metadata": {},
   "source": [
    "The median is another measure of location. The median is the middle value when data is sorted in ascending order. \n",
    "\n",
    "**Median**\n",
    "\n",
    "1. Arrange the data in ascending order\n",
    "2. Determine number of elements\n",
    "3. Calculate median:\n",
    "    1. for an odd number of observations, the median is the middle value\n",
    "    2. for an even number of observations, the median is the average of the two middle values"
   ]
  },
  {
   "cell_type": "markdown",
   "metadata": {
    "toc-hr-collapsed": true,
    "toc-nb-collapsed": true
   },
   "source": [
    "### **Naive implementation**"
   ]
  },
  {
   "cell_type": "markdown",
   "metadata": {},
   "source": [
    "A simple and naive implementation of mean would look as follows:\n",
    "\n",
    "Elements: 0 1 2 3 4 **5 6** 7 8 9 10 11\n",
    "\n",
    "We need to take the average of indices 5 and 6. "
   ]
  },
  {
   "cell_type": "code",
   "execution_count": null,
   "metadata": {},
   "outputs": [],
   "source": [
    "(sales[5] + sales[6])/2"
   ]
  },
  {
   "cell_type": "code",
   "execution_count": null,
   "metadata": {},
   "outputs": [],
   "source": [
    "mean([sales[5], sales[6]])"
   ]
  },
  {
   "cell_type": "markdown",
   "metadata": {},
   "source": [
    "This approach is, however, not reproducabel with other lists. "
   ]
  },
  {
   "cell_type": "markdown",
   "metadata": {
    "toc-hr-collapsed": true,
    "toc-nb-collapsed": true
   },
   "source": [
    "### **Better implementation**"
   ]
  },
  {
   "cell_type": "markdown",
   "metadata": {
    "toc-hr-collapsed": true,
    "toc-nb-collapsed": true
   },
   "source": [
    "Let's calculate the mean of the sales data by following the above steps in a more general form. We need to introduce \n",
    "\n",
    "- `list.sort()`: a method (i.e. function) for lists sorting lists in ascending order\n",
    "- `comparison operators`: operators to compare two values (e.g. if a is greater than b)\n",
    "- `if conditions`: instruct python what to do if a statement is true or false"
   ]
  },
  {
   "cell_type": "markdown",
   "metadata": {},
   "source": [
    "**1. Sort sales data in ascending order**"
   ]
  },
  {
   "cell_type": "code",
   "execution_count": null,
   "metadata": {},
   "outputs": [],
   "source": [
    "sales.sort()"
   ]
  },
  {
   "cell_type": "markdown",
   "metadata": {},
   "source": [
    "**2. Determine number of elements**"
   ]
  },
  {
   "cell_type": "code",
   "execution_count": null,
   "metadata": {},
   "outputs": [],
   "source": [
    "n = len(sales)"
   ]
  },
  {
   "cell_type": "markdown",
   "metadata": {},
   "source": [
    "**3. Calculate median depending by checking if odd or even number of elements**"
   ]
  },
  {
   "cell_type": "code",
   "execution_count": null,
   "metadata": {},
   "outputs": [],
   "source": [
    "if n % 2 == 0: # List has even number of elements\n",
    "    el1 = sales[n//2]\n",
    "    el2 = sales[n//2 - 1]\n",
    "    median = (el1 + el2)/2\n",
    "else: # List has odd number of elements\n",
    "    median = sales[n//2]\n",
    "median"
   ]
  },
  {
   "cell_type": "code",
   "execution_count": null,
   "metadata": {},
   "outputs": [],
   "source": [
    "def median(lst):\n",
    "    lst.sort()\n",
    "    n = len(lst)\n",
    "    \n",
    "    if n % 2 == 0: # List has even number of elements\n",
    "    \n",
    "        el1 = lst[n//2]\n",
    "        el2 = lst[n//2 - 1]\n",
    "        median = (el1 + el2)/2\n",
    "    \n",
    "    else: # List has odd number of elements\n",
    "        \n",
    "        median = lst[n//2]\n",
    "    \n",
    "    return median"
   ]
  },
  {
   "cell_type": "code",
   "execution_count": null,
   "metadata": {},
   "outputs": [],
   "source": [
    "numbers = [1,2,3,4,5,6]\n",
    "median(numbers)"
   ]
  },
  {
   "cell_type": "markdown",
   "metadata": {
    "toc-hr-collapsed": true,
    "toc-nb-collapsed": true
   },
   "source": [
    "### **Why is median important**"
   ]
  },
  {
   "cell_type": "markdown",
   "metadata": {
    "toc-hr-collapsed": true,
    "toc-nb-collapsed": true
   },
   "source": [
    "Advantage of median of mean: mean is influenced by small or large outliers. This is not the case for the median. \n",
    "\n",
    "Example:"
   ]
  },
  {
   "cell_type": "code",
   "execution_count": null,
   "metadata": {},
   "outputs": [],
   "source": [
    "sales_with_outliers = sales + [100_000]\n",
    "sales_with_outliers"
   ]
  },
  {
   "cell_type": "code",
   "execution_count": null,
   "metadata": {},
   "outputs": [],
   "source": [
    "mean(sales_with_outliers)"
   ]
  },
  {
   "cell_type": "code",
   "execution_count": null,
   "metadata": {},
   "outputs": [],
   "source": [
    "median(sales_with_outliers)"
   ]
  },
  {
   "cell_type": "markdown",
   "metadata": {
    "toc-hr-collapsed": true,
    "toc-nb-collapsed": true
   },
   "source": [
    "## Mode"
   ]
  },
  {
   "cell_type": "markdown",
   "metadata": {
    "toc-hr-collapsed": true,
    "toc-nb-collapsed": true
   },
   "source": [
    "### Definition"
   ]
  },
  {
   "cell_type": "markdown",
   "metadata": {},
   "source": [
    "Another measure of location is the `mode`. \n",
    "\n",
    "**Mode**: the mode is the value that occurs most often within a set of numbers.\n",
    "\n",
    "If there are no repeats in the data the mode is not defines. \n",
    "\n",
    "The mode is an important measure of location for qualitative data (i.e. non numeric data). A data set can have more than one mode. A data set with two modes is called bimodal. A data set with more than two modes is called multimodal. \n",
    "\n",
    "Similar to the median the mode is not affected by extreme outlieres."
   ]
  },
  {
   "cell_type": "markdown",
   "metadata": {
    "toc-hr-collapsed": true,
    "toc-nb-collapsed": true
   },
   "source": [
    "### Implementation from scratch"
   ]
  },
  {
   "cell_type": "markdown",
   "metadata": {},
   "source": [
    "While the statistical concept is straight forward the implementation in Python is not trivial for beginners.\n",
    "\n",
    "Here is one possible implementation from scratch (don't worry if it is not entirely clear to you)"
   ]
  },
  {
   "cell_type": "code",
   "execution_count": null,
   "metadata": {},
   "outputs": [],
   "source": [
    "max(set(sales), key=sales.count)"
   ]
  },
  {
   "cell_type": "markdown",
   "metadata": {
    "toc-hr-collapsed": true,
    "toc-nb-collapsed": true
   },
   "source": [
    "### Implementation using modules"
   ]
  },
  {
   "cell_type": "markdown",
   "metadata": {},
   "source": [
    "We have reached a point where it becomes quite tedious to implement all concept from scratch. Luckily, most of the concepts we will be using in this class (or actually most concepts in statistics or data analysis) have already been implemented in Python and can `imported` into python. \n",
    "\n",
    "We need to introduce a new concept:\n",
    "\n",
    "- `import modules`: use (e.g. statistical) concepts that have already been implemented in Python"
   ]
  },
  {
   "cell_type": "code",
   "execution_count": null,
   "metadata": {},
   "outputs": [],
   "source": [
    "import statistics"
   ]
  },
  {
   "cell_type": "code",
   "execution_count": null,
   "metadata": {},
   "outputs": [],
   "source": [
    "statistics.mode(sales)"
   ]
  },
  {
   "cell_type": "code",
   "execution_count": null,
   "metadata": {},
   "outputs": [],
   "source": [
    "letters = [\"a\",\"b\",\"b\",\"a\",\"d\",\"a\",\"a\",\"c\"]\n",
    "statistics.mode(letters)"
   ]
  },
  {
   "cell_type": "markdown",
   "metadata": {},
   "source": [
    "## Percentiles"
   ]
  },
  {
   "cell_type": "markdown",
   "metadata": {},
   "source": [
    "### Definition"
   ]
  },
  {
   "cell_type": "markdown",
   "metadata": {},
   "source": [
    "A percentile provides information about how the data is spread over the interval from smallest value to largest value.\n",
    "\n",
    "> **Percentile** is defined as:\n",
    "> \n",
    "> The $p^{th}$ percentile is a value such that *at least* $p$ percent of the observations are less than or equal to this value > and *at least* $(100 - p)$ per cent of the observations are greater than or equal to the value.\n",
    "\n",
    "In statistics percentiles are often used to (i) express the spread of data and (ii) to remove outliers (e.g. every value $> 95^{th}$ percentile is removed)."
   ]
  },
  {
   "cell_type": "markdown",
   "metadata": {},
   "source": [
    "**Calculation** of the $p^{th}$ percentile is done in three steps:\n",
    "\n",
    "1. Sort the data in ascending order (i.e. smallest to largest value)\n",
    "\n",
    "2. Compute an index $i$\n",
    "\n",
    "$$i = \\bigg(\\frac{p}{100}\\bigg)\\times n$$\n",
    "\n",
    "where $p$ is the percnetile of interest and n is the number of observations. \n",
    "\n",
    "3. Two options:\n",
    "\n",
    "    1. if $i$ is __not__\n"
   ]
  },
  {
   "cell_type": "code",
   "execution_count": 196,
   "metadata": {},
   "outputs": [],
   "source": [
    "numbers = [1,2,3,2,3,1,1000]"
   ]
  },
  {
   "cell_type": "code",
   "execution_count": 201,
   "metadata": {},
   "outputs": [],
   "source": [
    "import numpy as np\n",
    "import matplotlib.pyplot as plt"
   ]
  },
  {
   "cell_type": "code",
   "execution_count": 211,
   "metadata": {},
   "outputs": [],
   "source": [
    "ret = np.random.normal(size=10000)"
   ]
  },
  {
   "cell_type": "code",
   "execution_count": 212,
   "metadata": {},
   "outputs": [
    {
     "data": {
      "text/plain": [
       "-2.3459481802886377"
      ]
     },
     "execution_count": 212,
     "metadata": {},
     "output_type": "execute_result"
    }
   ],
   "source": [
    "np.percentile(ret,q=1)"
   ]
  },
  {
   "cell_type": "code",
   "execution_count": 203,
   "metadata": {},
   "outputs": [],
   "source": [
    "percentiles = [np.percentile(numbers, q=i) for i in range(1,101)]"
   ]
  },
  {
   "cell_type": "code",
   "execution_count": 207,
   "metadata": {},
   "outputs": [
    {
     "data": {
      "image/png": "[encoded data removed]",
      "text/plain": [
       "<Figure size 432x288 with 1 Axes>"
      ]
     },
     "metadata": {
      "needs_background": "light"
     },
     "output_type": "display_data"
    }
   ],
   "source": [
    "plt.hist(percentiles, bins=100);"
   ]
  },
  {
   "cell_type": "markdown",
   "metadata": {},
   "source": [
    "# New Python concepts"
   ]
  },
  {
   "cell_type": "markdown",
   "metadata": {},
   "source": [
    "## New functions"
   ]
  },
  {
   "cell_type": "markdown",
   "metadata": {},
   "source": [
    "list.`sort()`: \n",
    "\n",
    "- sorts a list in ascending order and can be applied to any list object. \n",
    "- is an inplace method meaning the method doesn't return a new list, but sorts the existing list"
   ]
  },
  {
   "cell_type": "code",
   "execution_count": 195,
   "metadata": {},
   "outputs": [
    {
     "data": {
      "text/plain": [
       "['Adam', 'Beatrix', 'Denise', 'Zack']"
      ]
     },
     "execution_count": 195,
     "metadata": {},
     "output_type": "execute_result"
    }
   ],
   "source": [
    "names = [\"Denise\",\"Beatrix\",\"Adam\", \"Zack\"]\n",
    "names.sort() # or names.sort(reverse=False)\n",
    "names"
   ]
  },
  {
   "cell_type": "code",
   "execution_count": null,
   "metadata": {},
   "outputs": [],
   "source": [
    "names.sort(reverse=True)\n",
    "names"
   ]
  },
  {
   "cell_type": "code",
   "execution_count": null,
   "metadata": {},
   "outputs": [],
   "source": [
    "list.sort?"
   ]
  },
  {
   "cell_type": "markdown",
   "metadata": {},
   "source": [
    "## Comparison operators"
   ]
  },
  {
   "cell_type": "markdown",
   "metadata": {},
   "source": [
    "With these operators we can compare two variables. In Python you can use the following comparison operators\n",
    "\n",
    "| Operator | Name                     |\n",
    "|:--------:|--------------------------|\n",
    "|    ==    | Equal                    |\n",
    "|    !=    | Not equal                |\n",
    "|     >    | Greater than             |\n",
    "|     <    | Less than                |\n",
    "|    >=    | Greater than or equal to |\n",
    "|    <=    | Less than or equal to    |\n",
    "\n",
    "Comparison operators return `true` if comparison is true else they return `false`.\n",
    "\n",
    "Let's look at some examples:"
   ]
  },
  {
   "cell_type": "code",
   "execution_count": null,
   "metadata": {},
   "outputs": [],
   "source": [
    "a = 10\n",
    "b = 12\n",
    "a > b"
   ]
  },
  {
   "cell_type": "code",
   "execution_count": null,
   "metadata": {},
   "outputs": [],
   "source": [
    "a != b"
   ]
  },
  {
   "cell_type": "code",
   "execution_count": null,
   "metadata": {},
   "outputs": [],
   "source": [
    "name1 = \"Felix\"\n",
    "name2 = \"Riza\"\n",
    "len(name1) < len(name2)"
   ]
  },
  {
   "cell_type": "code",
   "execution_count": null,
   "metadata": {},
   "outputs": [],
   "source": [
    "n1 = [1,2,3,4]\n",
    "n2 = [4,3,2,1]\n",
    "sum(n1) == sum(n2)"
   ]
  },
  {
   "cell_type": "markdown",
   "metadata": {},
   "source": [
    "## If condition"
   ]
  },
  {
   "cell_type": "markdown",
   "metadata": {},
   "source": [
    "If statements are very useful as the run code depending on a test condition. \n",
    "\n",
    "So syntax in Python is as follows:\n",
    "\n",
    "```Python\n",
    "if condition:\n",
    "    do something\n",
    "```\n",
    "\n",
    "We can also write:\n",
    "\n",
    "```Python\n",
    "if condition:\n",
    "    do something\n",
    "else: \n",
    "    do something differently\n",
    "```\n",
    "\n",
    "If we want to test more than one condition we can do this with the `elif` keyword\n",
    "\n",
    "```Python\n",
    "if condition1:\n",
    "    do something\n",
    "elif condition2: \n",
    "    do something differently\n",
    "else:\n",
    "    do something by default\n",
    "```\n",
    "\n",
    "**Example**: let's write a function that tests if a number is big or not. Any number above $100$ is defined as big"
   ]
  },
  {
   "cell_type": "code",
   "execution_count": null,
   "metadata": {},
   "outputs": [],
   "source": [
    "def is_big(number):\n",
    "    if number > 100:\n",
    "        print(number, \"is a big number\")\n",
    "    else: \n",
    "        print(number, \"is a small number\")"
   ]
  },
  {
   "cell_type": "code",
   "execution_count": null,
   "metadata": {},
   "outputs": [],
   "source": [
    "is_big(12)"
   ]
  },
  {
   "cell_type": "code",
   "execution_count": null,
   "metadata": {},
   "outputs": [],
   "source": [
    "is_big(101)"
   ]
  },
  {
   "cell_type": "markdown",
   "metadata": {},
   "source": [
    "## Importing modules"
   ]
  },
  {
   "cell_type": "markdown",
   "metadata": {},
   "source": [
    "Most of the functionality we are using has been programmed and packaged into a specific module. We can access a module with the keyword `import`. After importing a module we can then use it and access the associated objects and methods.\n",
    "\n",
    "```Python\n",
    "import module_name\n",
    "\n",
    "module_name.module_function()\n",
    "\n",
    "```\n",
    "\n",
    "> **Note**: importing a module requires most modules to be downloaded and installed first. This will be explained in more detail in due course\n",
    "\n",
    "**Example**: below we are importing the module`statistics` which provides basic functionality for statistical analysis."
   ]
  },
  {
   "cell_type": "code",
   "execution_count": null,
   "metadata": {},
   "outputs": [],
   "source": [
    "import statistics"
   ]
  },
  {
   "cell_type": "markdown",
   "metadata": {},
   "source": [
    "Once the above cell is executed we can use the module. Here we are using the `mean` function from statistics"
   ]
  },
  {
   "cell_type": "code",
   "execution_count": null,
   "metadata": {},
   "outputs": [],
   "source": [
    "visitors = [80000, 75000, 78000,80500, 80140]\n",
    "statistics.mean(visitors)"
   ]
  },
  {
   "cell_type": "markdown",
   "metadata": {},
   "source": [
    "We will gradually introduce some additional modules that are integral for doing data analysis in python. Some of the most important package we will learn about are:\n",
    "\n",
    "- `numpy`: module for numerical analysis\n",
    "- `pandas`: module for tabular data and dataframes\n",
    "- `matplotlib`: module for visualizations\n",
    "- `scipy`: module for scientific analysis\n",
    "- `sklearn`: module for machine learning"
   ]
  },
  {
   "cell_type": "code",
   "execution_count": null,
   "metadata": {},
   "outputs": [],
   "source": []
  }
 ],
 "metadata": {
  "kernelspec": {
   "display_name": "Python 3",
   "language": "python",
   "name": "python3"
  },
  "language_info": {
   "codemirror_mode": {
    "name": "ipython",
    "version": 3
   },
   "file_extension": ".py",
   "mimetype": "text/x-python",
   "name": "python",
   "nbconvert_exporter": "python",
   "pygments_lexer": "ipython3",
   "version": "3.8.3"
  },
  "toc-autonumbering": true
 },
 "nbformat": 4,
 "nbformat_minor": 4
}
