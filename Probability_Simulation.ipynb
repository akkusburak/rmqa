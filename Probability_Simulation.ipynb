{
 "cells": [
  {
   "cell_type": "code",
   "execution_count": 14,
   "metadata": {},
   "outputs": [],
   "source": [
    "import numpy as np\n",
    "import scipy.stats as stats\n",
    "import matplotlib.pyplot as plt\n",
    "import seaborn as sns\n",
    "import math\n",
    "from utils import plot_line, plot_bar, plot_step"
   ]
  },
  {
   "cell_type": "markdown",
   "metadata": {},
   "source": [
    "# Why probability "
   ]
  },
  {
   "cell_type": "markdown",
   "metadata": {},
   "source": [
    "In **probability** we assume a data generation process by which we \"create\" data. In short:\n",
    "\n",
    "- we know a model\n",
    "- we generate data using this model\n",
    "\n",
    "In **statistical inference** we do the opposite. \n",
    "\n",
    "- we have data\n",
    "- we want to learn about the data generation process, i.e. what is the model?\n",
    "\n",
    "Often **quantitiatve research** deals with data with the goal to infer the data generation process / the model underlying the data. "
   ]
  },
  {
   "cell_type": "markdown",
   "metadata": {},
   "source": [
    "**Easy example**: coin flip.\n",
    "\n",
    "- Probability: we assume a random process that creates us coin flip data. We could, for example, assume it is a fair coin and \n",
    "\n",
    "- Inference: we have coin flip data and want to infer whether or not the coin is fair\n",
    "\n",
    "**More realistic examples**:\n",
    "\n",
    "- what are factors affecting customers to cancel a energy contract and switch to a competitor?\n",
    "\n",
    "- are women with equal qualifications more likely to receive less salary "
   ]
  },
  {
   "cell_type": "markdown",
   "metadata": {},
   "source": [
    "It is, therefore, important that we have a good understanding of **probability** and **probability distributions** when conducting data analysis and infering from data. \n",
    "\n",
    "The following section will therefore briefly repeat$^*$ several basic and important concepts. Once we have done so we will be able to:\n",
    "\n",
    "1. deal with uncertainties in our analysis / data \n",
    "\n",
    "2. interpret our analyses and models\n",
    "\n",
    "3. simulate data to support our data analysis\n",
    "\n",
    "($^*$it is again assumed that you have covered basic concepts of probability in a bachelor course)"
   ]
  },
  {
   "cell_type": "markdown",
   "metadata": {},
   "source": [
    "# Probability distributions"
   ]
  },
  {
   "cell_type": "markdown",
   "metadata": {},
   "source": [
    "## Definition probability"
   ]
  },
  {
   "cell_type": "markdown",
   "metadata": {},
   "source": [
    "(Note: this section is largely taken from Imai (2017))"
   ]
  },
  {
   "cell_type": "markdown",
   "metadata": {},
   "source": [
    "**Probability** is a measure of uncertainty. There are two basic ways to interpret probability:\n",
    "\n",
    "1. **Frequentist view**: probability represents the limit of the relative frequency with which an event of interest occurs when the number of experiments repeatedly conducted under the same conditions aproaches infinity.\n",
    "\n",
    "2. **Bayesian view**: probability is one's subjective belief about the likelihood an event occurs.\n",
    "\n"
   ]
  },
  {
   "cell_type": "markdown",
   "metadata": {},
   "source": [
    "The definition of probability requires the following three concepts:\n",
    "\n",
    "1. **experiment**: an action or a set of actions that produce stochastic events\n",
    "\n",
    "2. **sample space**: a set of all possible outcomes of the experiment, typically denoted by $\\Omega$\n",
    "\n",
    "3. **event**: a subset of the sample space"
   ]
  },
  {
   "cell_type": "markdown",
   "metadata": {},
   "source": [
    "A **random variable** assigns a numeric value to each event of the experiment. These values represent mutually exclusive and exhausitve events, together forming the entire sample space. A **discrete random variable** takes a finite or at most countably infinite number of distinct values, whereas a **continuous random variable** assumes an uncountably infinite number of values. \n",
    "\n",
    "Once we define a random variable, we can formalize a **probability model** using the distribution of the random variable. \n",
    "\n",
    "Examples of **discrete** random variables:\n",
    "\n",
    "| Experiment                       | Random variable ($x$)           | Possible values for random variable |\n",
    "|----------------------------------|---------------------------------|-------------------------------------|\n",
    "| Contact five customers           | # of customers placing an order | $0, 1, 2, 3, 4, 5$                    |\n",
    "| Inspect a shipment of 10 iPhones | # of defective devices     | $0, 1, 2, \\cdots, 9, 10$                   |\n",
    "| Operate a theme park for one day | # of customers             | $0, 1, 2,\\ldots$                        |\n",
    "| Sell a laptop                    | Gender of customers             | $0$ if female, $1$ if male              |\n",
    "\n",
    "Examples of **continous** random variables:\n",
    "\n",
    "| Experiment                  | Random variable ($x$)                             | Possible values for random variable |\n",
    "|-----------------------------|---------------------------------------------------|-------------------------------------|\n",
    "| Operate a McDonald's        | Time between customer arrivals in minutes         | $x \\geq 0$                          |\n",
    "| Fill a coffee mug           | Number of ml                                      | $0 \\leq x \\leq 500ml$               |\n",
    "| Construct a new library     | Percentage of project complete after six months   | $0 \\leq x \\leq 100$                 |\n",
    "| Test a new chemical process | Temperature when the desired reaction takes place | $-3 C^{\\circ} \\leq 120 C^{\\circ}$   |\n",
    "\n",
    "\n",
    "Let's look at some (selected) important distributions."
   ]
  },
  {
   "cell_type": "markdown",
   "metadata": {},
   "source": [
    "## Characterization of probability distributions"
   ]
  },
  {
   "cell_type": "markdown",
   "metadata": {},
   "source": [
    "There are two important functions which are helpful in characterizing probability distributions:\n",
    "\n",
    "1. Probability mass / density function\n",
    "\n",
    "3. Cumulative distribution function"
   ]
  },
  {
   "cell_type": "markdown",
   "metadata": {},
   "source": [
    "### Probablity mass / density function"
   ]
  },
  {
   "cell_type": "markdown",
   "metadata": {},
   "source": [
    "Probablity mass funtion (**PMF**): a function that gives the probability that a discrete random variable is exactly equal to one value $x$. \n",
    "\n",
    "Example:\n",
    "\n",
    "![two dice](./../../_assets/Two_dice.png)\n",
    "\n",
    "Note that the sum of all bars must equal to 1 given the probability of all events occuring must be equal to 1. "
   ]
  },
  {
   "cell_type": "markdown",
   "metadata": {},
   "source": [
    "Probability density function (**PDF**): a function that specifies the probability of a continous random variable falling within a particular range of values (given the probabiltiy of a continuous random variable is zero)\n",
    "\n",
    "Example:\n",
    "\n",
    "![normal_dist](./../../_assets/Normal_distribution.png)"
   ]
  },
  {
   "cell_type": "markdown",
   "metadata": {},
   "source": [
    "In summary, probability mass / density functions are:\n",
    "\n",
    "- defined for any outcome of an experiment ($x$)\n",
    "\n",
    "- assign a probability to every possible $y$ (or range of $x$)\n",
    "\n",
    "- a function $f(x)$ such that:\n",
    "\n",
    "    - $f(x) \\geq 0$ for any $x$ \n",
    "    \n",
    "    - discrete: $x$: $\\sum_{\\text{all x}} f(x) = 1$;(sum of the heights is equal to 1)\n",
    "    \n",
    "    - continous: $\\int_{-\\infty}^{\\infty} f(x)dx = 1$; (area under the curve is equal to 1)"
   ]
  },
  {
   "cell_type": "markdown",
   "metadata": {},
   "source": [
    "### Cumulative distribution function"
   ]
  },
  {
   "cell_type": "markdown",
   "metadata": {},
   "source": [
    "Unlike the PMF the CDF gives you the probability that a random variable less than or equal $x$. \n",
    "\n",
    "For a **discrete** distribution the CDF can be written as:\n",
    "\n",
    "$$F(x) = \\sum_{i=0}^x f(i)$$\n",
    "\n",
    "for a discrete distribution the CDF is a step function where the function is flat and then jumpys ate each nonnegative integer value.\n",
    "\n",
    "Here is an example of the cumulative distribution function of the binomial distribution with $n=5$ and $p=0.5$\n",
    "\n",
    "\n",
    "![cdf_binomial](./../../_assets/Binomial_cdf.png)\n",
    "\n",
    "The horizontal axis is the allowable domain for the given probability function. Given the vertical axis is a probability, it must fall between 0 and 1. It increases from zero to one as we go from left to right on the horizontal axis.\n",
    "\n",
    "\n",
    "For a **continous** distribution the CDF can be expressed as:\n",
    "\n",
    "$$F(x) = \\int_{-\\infty}^{x} f(t)dt$$\n",
    "\n",
    "Here is an example of the cumulative distribution function of the normal distribution with $\\mu=0$ and $\\sigma=1$:\n",
    "\n",
    "![cdf_normal](./../../_assets/Normal_cdf.png)"
   ]
  },
  {
   "cell_type": "markdown",
   "metadata": {},
   "source": [
    "## Selected distributions"
   ]
  },
  {
   "cell_type": "markdown",
   "metadata": {},
   "source": [
    "### Binomial distribution"
   ]
  },
  {
   "cell_type": "markdown",
   "metadata": {},
   "source": [
    "Binomial outcomes are important to model, since they represent, inter alia, fundamental decisions such as stay or switch, buy or don't buy\n"
   ]
  },
  {
   "cell_type": "markdown",
   "metadata": {},
   "source": [
    "With a binomial distribution we mean a random variable $X$ where:\n",
    "\n",
    "$X$ = The number of outcomes $y$ in $n$ binomial experiment"
   ]
  },
  {
   "cell_type": "markdown",
   "metadata": {},
   "source": [
    "Recall that a **binominal experiment** exhibits the following properties:\n",
    "\n",
    "1. The experiment consists of a sequence of $n$ identical trials\n",
    "2. Two outcomes are possible on each trial (success, failure)\n",
    "3. The probablity of a success, denoted by $p$, does not change from trial to trial (also the probability of failure - $1-p$ - does not change)\n",
    "4. The trials are independent\n"
   ]
  },
  {
   "cell_type": "markdown",
   "metadata": {},
   "source": [
    "#### Probability mass function"
   ]
  },
  {
   "cell_type": "markdown",
   "metadata": {},
   "source": [
    "The *probabilty mass function* of a binomial random variable $x$ with probability $p$ and $n$ trials is given by:\n",
    "\n",
    "$$f(x) = P(X = x) = \\binom{n}{x}p^x(1-p)^{n-x}$$\n",
    "\n",
    "\n",
    "Recall that the binominal coefficient is defined as: $$\\binom{n}{x} = \\frac{n!}{x!(n-x)!}$$"
   ]
  },
  {
   "cell_type": "markdown",
   "metadata": {},
   "source": [
    "Example: assume we flip a coin 5 times. How many different combinations are there to get 2 heads out of 5 flips?\n",
    "\n",
    "- HHTTT\n",
    "- HTHTT\n",
    "- HTTHT\n",
    "- HTTTH\n",
    "- THHTT\n",
    "- THTHT\n",
    "- THTTH\n",
    "- TTHHT\n",
    "- TTHTH\n",
    "- TTTHH\n",
    "\n",
    "There are $10$ unique ways to receive 2 heads out of 5 flips. This can be calculated by:\n",
    "\n",
    "\\begin{equation}\n",
    "    \\binom{5}{2} = \\frac{5!}{2!(5-2)!} = 10\n",
    "\\end{equation}"
   ]
  },
  {
   "cell_type": "markdown",
   "metadata": {},
   "source": [
    "**Example**: Binomial distribution\n",
    "\n",
    "We are a producer of lawn mow roboters. In the next month we are required to produce $100$ robots. Over the last couple of years the defect rate was 5%.\n",
    "\n",
    "\n",
    "**Question:** What is the probability of producing \n",
    "\n",
    "1. **$0$** defective robots next month?\n",
    "\n",
    "2. **$100$** defective robots next month?\n",
    "\n",
    "3. **$5$** defective robots next month?"
   ]
  },
  {
   "cell_type": "markdown",
   "metadata": {},
   "source": [
    "**Probablity of $0$ or $100$ defects**"
   ]
  },
  {
   "cell_type": "markdown",
   "metadata": {},
   "source": [
    "For the edge cases $0$ and $100$ it is easy to come up with the solution as these are single events that either occur or do not occur. "
   ]
  },
  {
   "cell_type": "code",
   "execution_count": 7,
   "metadata": {},
   "outputs": [
    {
     "data": {
      "text/plain": [
       "0.0059205292203339975"
      ]
     },
     "execution_count": 7,
     "metadata": {},
     "output_type": "execute_result"
    }
   ],
   "source": [
    "p_0 = 0.05**0 * (1-0.05)**100\n",
    "p_0"
   ]
  },
  {
   "cell_type": "code",
   "execution_count": 8,
   "metadata": {},
   "outputs": [
    {
     "data": {
      "text/plain": [
       "7.888609052210162e-131"
      ]
     },
     "execution_count": 8,
     "metadata": {},
     "output_type": "execute_result"
    }
   ],
   "source": [
    "p_100 = 0.05**100 * (1-0.05)**0\n",
    "p_100"
   ]
  },
  {
   "cell_type": "markdown",
   "metadata": {},
   "source": [
    "**Probablity of exactly $5$ defects**"
   ]
  },
  {
   "cell_type": "markdown",
   "metadata": {},
   "source": [
    "There are many combinations how 5 defects could occur. It could be the first 5 robots or the last 5 robots or many other any other combination of 5 robots out of 100. Therefore, we need the binomial coefficient $\\binom{n}{x}$. \n",
    "\n",
    "In Python this can be done as follows:"
   ]
  },
  {
   "cell_type": "code",
   "execution_count": 37,
   "metadata": {},
   "outputs": [
    {
     "name": "stdout",
     "output_type": "stream",
     "text": [
      "There are 75287520 combinations to encounter 5 defects in 100 robots.\n"
     ]
    }
   ],
   "source": [
    "n = 100\n",
    "x = 5\n",
    "n_combs = math.comb(100,5)\n",
    "print(\"There are\", n_combs, \"combinations to encounter 5 defects in 100 robots.\")"
   ]
  },
  {
   "cell_type": "markdown",
   "metadata": {},
   "source": [
    "We can easily put the definition of the probability mass function into a python function:"
   ]
  },
  {
   "cell_type": "code",
   "execution_count": 38,
   "metadata": {},
   "outputs": [],
   "source": [
    "def binom_pmf(n,x,p):\n",
    "    'Probablity mass function for binomial random variable'\n",
    "    return math.comb(n,x) * p**x * (1-p)**(n-x)"
   ]
  },
  {
   "cell_type": "code",
   "execution_count": 39,
   "metadata": {},
   "outputs": [
    {
     "data": {
      "text/plain": [
       "0.1800178272704284"
      ]
     },
     "execution_count": 39,
     "metadata": {},
     "output_type": "execute_result"
    }
   ],
   "source": [
    "n = 100\n",
    "x = 5\n",
    "p = 0.05\n",
    "binom_pmf(n,x,p)"
   ]
  },
  {
   "cell_type": "markdown",
   "metadata": {},
   "source": [
    "The probability that 5 out of 100 robots produced are defective is $~18\\%$. "
   ]
  },
  {
   "cell_type": "markdown",
   "metadata": {},
   "source": [
    "---\n",
    "\n",
    "Let's see what the probability mass function for all possible outcomes looks like for our experiment. \n",
    "\n",
    "We can use this function to calculate the probabilities for all other possible events."
   ]
  },
  {
   "cell_type": "code",
   "execution_count": 40,
   "metadata": {},
   "outputs": [],
   "source": [
    "outcomes = np.arange(0,101,1) # 0 to 100 defects are possible events\n",
    "probs = np.empty(n+1)\n",
    "for i, x in enumerate(outcomes):\n",
    "    probs[i] = binom_pmf(n,x,p)"
   ]
  },
  {
   "cell_type": "code",
   "execution_count": 41,
   "metadata": {},
   "outputs": [
    {
     "data": {
      "text/plain": [
       "(0.0059205292203339975, 0.1800178272704284, 7.888609052210162e-131)"
      ]
     },
     "execution_count": 41,
     "metadata": {},
     "output_type": "execute_result"
    }
   ],
   "source": [
    "probs[0], probs[5], probs[-1] # check if results match our previous results"
   ]
  },
  {
   "cell_type": "code",
   "execution_count": 42,
   "metadata": {},
   "outputs": [
    {
     "data": {
      "image/png": "[encoded data removed]",
      "text/plain": [
       "<Figure size 648x504 with 1 Axes>"
      ]
     },
     "metadata": {
      "needs_background": "light"
     },
     "output_type": "display_data"
    }
   ],
   "source": [
    "plot_bar(outcomes, probs);"
   ]
  },
  {
   "cell_type": "markdown",
   "metadata": {},
   "source": [
    "**Important**\n",
    "\n",
    "With large $n$ and provided that $p$ is not too close to the edges $0$ or $1$, the binomial distribution can be approximated by the *normal distribution*\n",
    "\n",
    "Here is an example for the probablity mass function for $n=1.000$ and $p=50\\%$\n",
    "\n",
    "![binom_largeN](../../../_assets/Binom_large_n.png)"
   ]
  },
  {
   "cell_type": "markdown",
   "metadata": {},
   "source": [
    "#### Cumulative distribution function"
   ]
  },
  {
   "cell_type": "markdown",
   "metadata": {},
   "source": [
    "The cumulative distribution function of a binomial random variable $x$ with probability $p$ and $n$ trials can be written as:\n",
    "\n",
    "$$F(x) = P(X \\leq x) = \\sum_{k=0}^{x}\\binom{n}{k}p^k(1 - p)^{n-k}$$\n",
    "\n"
   ]
  },
  {
   "cell_type": "markdown",
   "metadata": {},
   "source": [
    "As you can see this is the sum of the PMFs. "
   ]
  },
  {
   "cell_type": "markdown",
   "metadata": {},
   "source": [
    "**Example**: \n",
    "\n",
    "We are a producer of lawn mow roboters. In the next month we are required to produce $100$ robots. Over the last couple of years the defect rate was 5%.\n",
    "\n",
    "\n",
    "**Question:** What is the probability of producing \n",
    "\n",
    "1. less than $5$ defective robots next month?\n"
   ]
  },
  {
   "cell_type": "code",
   "execution_count": 59,
   "metadata": {},
   "outputs": [
    {
     "data": {
      "text/plain": [
       "array([0.00592053, 0.03116068, 0.08118177, 0.13957568, 0.17814264])"
      ]
     },
     "execution_count": 59,
     "metadata": {},
     "output_type": "execute_result"
    }
   ],
   "source": [
    "x = 5\n",
    "probs[:x]"
   ]
  },
  {
   "cell_type": "code",
   "execution_count": 60,
   "metadata": {},
   "outputs": [
    {
     "data": {
      "text/plain": [
       "0.4359813006857"
      ]
     },
     "execution_count": 60,
     "metadata": {},
     "output_type": "execute_result"
    }
   ],
   "source": [
    "# Probability of less than 5 defects\n",
    "sum(probs[:x]) "
   ]
  },
  {
   "cell_type": "markdown",
   "metadata": {},
   "source": [
    "----"
   ]
  },
  {
   "cell_type": "markdown",
   "metadata": {},
   "source": [
    "Let's plot the CDF for our problem:\n",
    "\n",
    "We can easily do this by taking the cumulative sum of the probabilities (use `np.cumsum`)"
   ]
  },
  {
   "cell_type": "code",
   "execution_count": 48,
   "metadata": {},
   "outputs": [
    {
     "data": {
      "text/plain": [
       "array([ 1,  3,  6, 10, 15])"
      ]
     },
     "execution_count": 48,
     "metadata": {},
     "output_type": "execute_result"
    }
   ],
   "source": [
    "# Example of np.cumsum\n",
    "data = np.array([1,2,3,4,5])\n",
    "np.cumsum(data)"
   ]
  },
  {
   "cell_type": "code",
   "execution_count": 51,
   "metadata": {},
   "outputs": [
    {
     "data": {
      "image/png": "[encoded data removed]",
      "text/plain": [
       "<Figure size 648x504 with 1 Axes>"
      ]
     },
     "metadata": {
      "needs_background": "light"
     },
     "output_type": "display_data"
    }
   ],
   "source": [
    "cum_probs = np.cumsum(probs)\n",
    "plot_step(outcomes,cum_probs, xlabel=\"x\", ylabel=\"Probability\");"
   ]
  },
  {
   "cell_type": "markdown",
   "metadata": {},
   "source": [
    "#### Mean and variance of binomial distribution"
   ]
  },
  {
   "cell_type": "markdown",
   "metadata": {},
   "source": [
    "How many defective parts do we expect when producing $100$ lawnn robots?\n",
    "\n",
    "For one production unit we do expect $5\\%$ defective part; in $n = 100$ production units we, therefore, expect $n\\times0.05=5$ defective parts. \n",
    "\n",
    "The **mean** of a binomial distribution is, therefore,  defined as:\n",
    "\n",
    "$$E(x) = n p$$\n",
    "\n",
    "The **variance** of a binomical distribution is defined as:\n",
    "\n",
    "$$np(1-p)$$\n",
    "\n",
    "Let's calculate the mean and variance for our example:"
   ]
  },
  {
   "cell_type": "code",
   "execution_count": 6,
   "metadata": {},
   "outputs": [
    {
     "ename": "NameError",
     "evalue": "name 'n' is not defined",
     "output_type": "error",
     "traceback": [
      "\u001b[0;31m---------------------------------------------------------------------------\u001b[0m",
      "\u001b[0;31mNameError\u001b[0m                                 Traceback (most recent call last)",
      "\u001b[0;32m<ipython-input-6-74bf8ec12650>\u001b[0m in \u001b[0;36m<module>\u001b[0;34m\u001b[0m\n\u001b[1;32m      1\u001b[0m \u001b[0;31m# mean\u001b[0m\u001b[0;34m\u001b[0m\u001b[0;34m\u001b[0m\u001b[0;34m\u001b[0m\u001b[0m\n\u001b[0;32m----> 2\u001b[0;31m \u001b[0mmu\u001b[0m \u001b[0;34m=\u001b[0m \u001b[0mn\u001b[0m\u001b[0;34m*\u001b[0m\u001b[0mp\u001b[0m\u001b[0;34m\u001b[0m\u001b[0;34m\u001b[0m\u001b[0m\n\u001b[0m\u001b[1;32m      3\u001b[0m \u001b[0mmu\u001b[0m\u001b[0;34m\u001b[0m\u001b[0;34m\u001b[0m\u001b[0m\n",
      "\u001b[0;31mNameError\u001b[0m: name 'n' is not defined"
     ]
    }
   ],
   "source": [
    "# mean\n",
    "mu = n*p\n",
    "mu"
   ]
  },
  {
   "cell_type": "code",
   "execution_count": 71,
   "metadata": {},
   "outputs": [
    {
     "data": {
      "text/plain": [
       "4.75"
      ]
     },
     "execution_count": 71,
     "metadata": {},
     "output_type": "execute_result"
    }
   ],
   "source": [
    "var = n*p*(1-p)\n",
    "var"
   ]
  },
  {
   "cell_type": "markdown",
   "metadata": {},
   "source": [
    "#### Using `scipy.stats` for probability distributions"
   ]
  },
  {
   "cell_type": "markdown",
   "metadata": {},
   "source": [
    "So far we have implemented both pmf and cdf from scratch to illustrate the key idea of \n",
    "\n",
    "- the binomial distribution and\n",
    "\n",
    "- the ways how to implement these ideas directly into python\n",
    "\n",
    "From now on we will use existing modules to help us with probablity distribution (and simulation)."
   ]
  },
  {
   "cell_type": "markdown",
   "metadata": {},
   "source": [
    "Using `scipy.stats` module it is even easier to calculate the key characteristics of probability distributions\n",
    "\n",
    "We only need to:\n",
    "\n",
    "1. indicate which probability distribution we need\n",
    "\n",
    "2. call the `pmf` or `cdf` function or\n",
    "\n",
    "3. call `mean` and `var`/`std` functions\n",
    "\n",
    "\n",
    "\n",
    "Let's recalculate our lawn robot example using `scipy.stats`"
   ]
  },
  {
   "cell_type": "code",
   "execution_count": 34,
   "metadata": {},
   "outputs": [],
   "source": [
    "import scipy.stats as stats"
   ]
  },
  {
   "cell_type": "code",
   "execution_count": 52,
   "metadata": {},
   "outputs": [],
   "source": [
    "n = 100\n",
    "p = 0.05\n",
    "bdist = stats.binom(n,p) # specify probability distribution with n=100 and p=0.05"
   ]
  },
  {
   "cell_type": "markdown",
   "metadata": {},
   "source": [
    "What is the probability of\n",
    "\n",
    "- exactly $5$ defects\n",
    "\n",
    "- less than $5$ defects"
   ]
  },
  {
   "cell_type": "code",
   "execution_count": 53,
   "metadata": {},
   "outputs": [
    {
     "data": {
      "text/plain": [
       "0.18001782727043672"
      ]
     },
     "execution_count": 53,
     "metadata": {},
     "output_type": "execute_result"
    }
   ],
   "source": [
    "bdist.pmf(5)"
   ]
  },
  {
   "cell_type": "code",
   "execution_count": 54,
   "metadata": {},
   "outputs": [
    {
     "data": {
      "text/plain": [
       "0.6159991279561405"
      ]
     },
     "execution_count": 54,
     "metadata": {},
     "output_type": "execute_result"
    }
   ],
   "source": [
    "bdist.cdf(5)"
   ]
  },
  {
   "cell_type": "markdown",
   "metadata": {},
   "source": [
    "We can apply `pmf` and `cdf` on multiple x if we want to"
   ]
  },
  {
   "cell_type": "code",
   "execution_count": 55,
   "metadata": {},
   "outputs": [],
   "source": [
    "xs = np.arange(0,n+1)\n",
    "probs = bdist.pmf(xs)"
   ]
  },
  {
   "cell_type": "code",
   "execution_count": 56,
   "metadata": {},
   "outputs": [
    {
     "data": {
      "image/png": "[encoded data removed]",
      "text/plain": [
       "<Figure size 648x504 with 1 Axes>"
      ]
     },
     "metadata": {
      "needs_background": "light"
     },
     "output_type": "display_data"
    }
   ],
   "source": [
    "plot_bar(xs,probs);"
   ]
  },
  {
   "cell_type": "code",
   "execution_count": 61,
   "metadata": {},
   "outputs": [
    {
     "data": {
      "image/png": "[encoded data removed]",
      "text/plain": [
       "<Figure size 648x504 with 1 Axes>"
      ]
     },
     "metadata": {
      "needs_background": "light"
     },
     "output_type": "display_data"
    }
   ],
   "source": [
    "cum_probs = bdist.cdf(xs)\n",
    "plot_step(xs,cum_probs);"
   ]
  },
  {
   "cell_type": "markdown",
   "metadata": {},
   "source": [
    "Calculating mean and variance of our binomial distribution is easy:\n"
   ]
  },
  {
   "cell_type": "code",
   "execution_count": 72,
   "metadata": {},
   "outputs": [
    {
     "data": {
      "text/plain": [
       "(5.0, 4.75)"
      ]
     },
     "execution_count": 72,
     "metadata": {},
     "output_type": "execute_result"
    }
   ],
   "source": [
    "bdist.mean(), bdist.var()"
   ]
  },
  {
   "cell_type": "code",
   "execution_count": null,
   "metadata": {},
   "outputs": [],
   "source": []
  },
  {
   "cell_type": "markdown",
   "metadata": {},
   "source": [
    "## Simulation"
   ]
  },
  {
   "cell_type": "markdown",
   "metadata": {},
   "source": [
    "We often use simulation in order to understand the data generation process. However, simulation can help for many other things:\n",
    "\n",
    "- understand the assumed data generation process\n",
    "\n",
    "- to solve probability problems\n",
    "\n",
    "- to evaluate estimators: when we apply some function on the data we infer / receive the estimator (which is the function that makes up the data). We can use simulation to see if our function is good or bad by simulating a model and then esti\n",
    "\n",
    "- \n",
    "\n",
    "\n",
    "In order to understand the **data generation process** or the model of the data we as researchers are given it is often helpful to simulate the data from the model that is assumed.\n",
    "\n",
    "We is sim"
   ]
  },
  {
   "cell_type": "code",
   "execution_count": 144,
   "metadata": {},
   "outputs": [
    {
     "data": {
      "text/plain": [
       "0.891"
      ]
     },
     "execution_count": 144,
     "metadata": {},
     "output_type": "execute_result"
    }
   ],
   "source": [
    "n = 40\n",
    "same_day = 0\n",
    "diff_day = 0\n",
    "for i in range(1000):\n",
    "    bdays = np.random.randint(0,365,size=n)\n",
    "    if len(np.unique(bdays)) != n:\n",
    "        same_day += 1\n",
    "    else:\n",
    "        diff_day += 1\n",
    "same_day/1000 "
   ]
  },
  {
   "cell_type": "code",
   "execution_count": 137,
   "metadata": {},
   "outputs": [
    {
     "data": {
      "text/plain": [
       "0.498"
      ]
     },
     "execution_count": 137,
     "metadata": {},
     "output_type": "execute_result"
    }
   ],
   "source": []
  },
  {
   "cell_type": "code",
   "execution_count": 92,
   "metadata": {},
   "outputs": [],
   "source": [
    "coin_data = np.random.choice([0,1,2],p=[0.4999,0.4999,0.0002], size=10_000)"
   ]
  },
  {
   "cell_type": "code",
   "execution_count": 93,
   "metadata": {},
   "outputs": [
    {
     "data": {
      "text/plain": [
       "array([4940, 5059,    1])"
      ]
     },
     "execution_count": 93,
     "metadata": {},
     "output_type": "execute_result"
    }
   ],
   "source": [
    "np.bincount(coin_data)"
   ]
  },
  {
   "cell_type": "code",
   "execution_count": 111,
   "metadata": {},
   "outputs": [],
   "source": [
    "dice = stats.binom(200,0.9)"
   ]
  },
  {
   "cell_type": "code",
   "execution_count": 112,
   "metadata": {},
   "outputs": [],
   "source": [
    "n = 10_000\n",
    "data = dice.rvs((n,100))"
   ]
  },
  {
   "cell_type": "code",
   "execution_count": 113,
   "metadata": {},
   "outputs": [
    {
     "data": {
      "text/plain": [
       "array([1799797, 1800777, 1799945, 1799487, 1800438, 1799952, 1800952,\n",
       "       1798990, 1800134, 1800289, 1799561, 1799935, 1800193, 1799674,\n",
       "       1799922, 1799728, 1799547, 1799982, 1800079, 1799800, 1800032,\n",
       "       1799539, 1800409, 1800290, 1800387, 1800172, 1799941, 1800233,\n",
       "       1800307, 1800201, 1800488, 1799942, 1800287, 1800280, 1800470,\n",
       "       1800260, 1800201, 1800139, 1800289, 1799875, 1800259, 1800172,\n",
       "       1799837, 1800039, 1799735, 1800551, 1799649, 1799976, 1800629,\n",
       "       1799920, 1800504, 1799861, 1799810, 1799903, 1800911, 1799121,\n",
       "       1799705, 1799699, 1799678, 1799933, 1799600, 1799998, 1799531,\n",
       "       1800469, 1800053, 1799589, 1800397, 1800178, 1800199, 1800078,\n",
       "       1800143, 1799914, 1800698, 1798985, 1799549, 1800318, 1800967,\n",
       "       1800274, 1800188, 1799785, 1800409, 1799620, 1799648, 1799875,\n",
       "       1799945, 1800158, 1800065, 1800576, 1799298, 1800118, 1799844,\n",
       "       1799468, 1800889, 1799236, 1799803, 1800272, 1799542, 1800112,\n",
       "       1799851, 1800520])"
      ]
     },
     "execution_count": 113,
     "metadata": {},
     "output_type": "execute_result"
    }
   ],
   "source": [
    "np.sum(data,axis=0)"
   ]
  },
  {
   "cell_type": "code",
   "execution_count": 114,
   "metadata": {},
   "outputs": [
    {
     "data": {
      "image/png": "[encoded data removed]",
      "text/plain": [
       "<Figure size 432x288 with 1 Axes>"
      ]
     },
     "metadata": {
      "needs_background": "light"
     },
     "output_type": "display_data"
    }
   ],
   "source": [
    "x = np.arange(0,200)\n",
    "plt.plot(dice.pmf(x)*100)\n",
    "sns.despine()"
   ]
  },
  {
   "cell_type": "code",
   "execution_count": 115,
   "metadata": {},
   "outputs": [
    {
     "data": {
      "text/plain": [
       "array([1.00000000e-198, 1.80000000e-195, 1.61190000e-192, 9.57468600e-190,\n",
       "       4.24397957e-187, 1.49727599e-184, 4.37953228e-182, 1.09238048e-179,\n",
       "       2.37183112e-177, 4.55391574e-175, 7.82818116e-173, 1.21692634e-170,\n",
       "       1.72499309e-168, 2.24514486e-166, 2.69898485e-164, 3.01206709e-162,\n",
       "       3.13443232e-160, 3.05330584e-158, 2.79377484e-156, 2.40852799e-154,\n",
       "       1.96174605e-152, 1.51334695e-150, 1.10818270e-148, 7.71873342e-147,\n",
       "       5.12330931e-145, 3.24612878e-143, 1.96640493e-141, 1.14051486e-139,\n",
       "       6.34207728e-138, 3.38535712e-136, 1.73668820e-134, 8.57139660e-133,\n",
       "       4.07409195e-131, 1.86667486e-129, 8.25180091e-128, 3.52234016e-126,\n",
       "       1.45296532e-124, 5.79615353e-123, 2.23762032e-121, 8.36525751e-120,\n",
       "       3.03031453e-118, 1.06430559e-116, 3.62624120e-115, 1.19918953e-113,\n",
       "       3.85103365e-112, 1.20152250e-110, 3.64374758e-109, 1.07451790e-107,\n",
       "       3.08252324e-106, 8.60590160e-105, 2.33908406e-103, 6.19169309e-102,\n",
       "       1.59674239e-100, 4.01294503e-099, 9.83171532e-098, 2.34888617e-096,\n",
       "       5.47374366e-095, 1.24455645e-093, 2.76162785e-092, 5.98196678e-091,\n",
       "       1.26518597e-089, 2.61333496e-088, 5.27303554e-087, 1.03954129e-085,\n",
       "       2.00274127e-084, 3.77131587e-083, 6.94264967e-082, 1.24967694e-080,\n",
       "       2.19979897e-079, 3.78747996e-078, 6.37919839e-077, 1.05122002e-075,\n",
       "       1.69509228e-074, 2.67499494e-073, 4.13178272e-072, 6.24725547e-071,\n",
       "       9.24758211e-070, 1.34029891e-068, 1.90219346e-067, 2.64380812e-066,\n",
       "       3.59888381e-065, 4.79851174e-064, 6.26732449e-063, 8.01915494e-062,\n",
       "       1.00525835e-060, 1.23469379e-059, 1.48593962e-058, 1.75238396e-057,\n",
       "       2.02519828e-056, 2.29370772e-055, 2.54601557e-054, 2.76984111e-053,\n",
       "       2.95349362e-052, 3.08687720e-051, 3.16240718e-050, 3.17572258e-049,\n",
       "       3.12610191e-048, 3.01652720e-047, 2.85338849e-046, 2.64586933e-045,\n",
       "       2.40509522e-044, 2.14315415e-043, 1.87210819e-042, 1.60310623e-041,\n",
       "       1.34568437e-040, 1.10730599e-039, 8.93157193e-039, 7.06178491e-038,\n",
       "       5.47288330e-037, 4.15738291e-036, 3.09536055e-035, 2.25877662e-034,\n",
       "       1.61542864e-033, 1.13222963e-032, 7.77662981e-032, 5.23400998e-031,\n",
       "       3.45173934e-030, 2.23035465e-029, 1.41192790e-028, 8.75632597e-028,\n",
       "       5.31946803e-027, 3.16530329e-026, 1.84469725e-025, 1.05282721e-024,\n",
       "       5.88394561e-024, 3.21969504e-023, 1.72483663e-022, 9.04520625e-022,\n",
       "       4.64273477e-021, 2.33216444e-020, 1.14634852e-019, 5.51297381e-019,\n",
       "       2.59360359e-018, 1.19344767e-017, 5.37051449e-017, 2.36302638e-016,\n",
       "       1.01644885e-015, 4.27353676e-015, 1.75586619e-014, 7.04872902e-014,\n",
       "       2.76410874e-013, 1.05859483e-012, 3.95854829e-012, 1.44500854e-011,\n",
       "       5.14784291e-011, 1.78931919e-010, 6.06652740e-010, 2.00566824e-009,\n",
       "       6.46421453e-009, 2.03037074e-008, 6.21293446e-008, 1.85153676e-007,\n",
       "       5.37189284e-007, 1.51676974e-006, 4.16619222e-006, 1.11277650e-005,\n",
       "       2.88893899e-005, 7.28675058e-005, 1.78479271e-004, 4.24309209e-004,\n",
       "       9.78563114e-004, 2.18809144e-003, 4.74086478e-003, 9.94709051e-003,\n",
       "       2.01974460e-002, 3.96604394e-002, 7.52592675e-002, 1.37900215e-001,\n",
       "       2.43787880e-001, 4.15449168e-001, 6.81825398e-001, 1.07656642e+000,\n",
       "       1.63362695e+000, 2.37961845e+000, 3.32326024e+000, 4.44367370e+000,\n",
       "       5.68083285e+000, 6.93254179e+000, 8.06200084e+000, 8.91774395e+000,\n",
       "       9.36363114e+000, 9.31189838e+000, 8.74909133e+000, 7.74509724e+000,\n",
       "       6.44021673e+000, 5.01292545e+000, 3.63841364e+000, 2.45155143e+000,\n",
       "       1.52569956e+000, 8.71828322e-001, 4.54268441e-001, 2.14053192e-001,\n",
       "       9.03036905e-002, 3.36884234e-002, 1.09400550e-002, 3.02955370e-003,\n",
       "       6.95560798e-004, 1.27107557e-004, 1.73328487e-005, 1.56779536e-006])"
      ]
     },
     "execution_count": 115,
     "metadata": {},
     "output_type": "execute_result"
    }
   ],
   "source": [
    "dice.pmf(x)*100"
   ]
  },
  {
   "cell_type": "code",
   "execution_count": null,
   "metadata": {},
   "outputs": [],
   "source": []
  }
 ],
 "metadata": {
  "kernelspec": {
   "display_name": "Python 3",
   "language": "python",
   "name": "python3"
  },
  "language_info": {
   "codemirror_mode": {
    "name": "ipython",
    "version": 3
   },
   "file_extension": ".py",
   "mimetype": "text/x-python",
   "name": "python",
   "nbconvert_exporter": "python",
   "pygments_lexer": "ipython3",
   "version": "3.8.3"
  },
  "toc-autonumbering": true
 },
 "nbformat": 4,
 "nbformat_minor": 4
}
